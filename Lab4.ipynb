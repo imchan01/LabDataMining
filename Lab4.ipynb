{
 "cells": [
  {
   "cell_type": "markdown",
   "id": "57a6aa9c",
   "metadata": {},
   "source": [
    "# I. Classification"
   ]
  },
  {
   "cell_type": "code",
   "execution_count": 3,
   "id": "a59d4e15",
   "metadata": {},
   "outputs": [],
   "source": [
    "#Import necessary modules\n",
    "from sklearn import datasets\n",
    "import matplotlib.pyplot as plt\n",
    "\n",
    "#Load the digits dataset: digits\n",
    "digits = datasets.load_digits()"
   ]
  },
  {
   "cell_type": "code",
   "execution_count": 4,
   "id": "3fe60dad",
   "metadata": {},
   "outputs": [
    {
     "data": {
      "image/png": "[encoded data removed]",
      "text/plain": [
       "<Figure size 640x480 with 1 Axes>"
      ]
     },
     "metadata": {},
     "output_type": "display_data"
    }
   ],
   "source": [
    "#Display image 1010\n",
    "plt.imshow(digits.images[1010], cmap=plt.cm.gray_r, interpolation = 'nearest')\n",
    "plt.show()"
   ]
  },
  {
   "cell_type": "code",
   "execution_count": 5,
   "id": "3f8d49ae",
   "metadata": {},
   "outputs": [],
   "source": [
    "from sklearn.model_selection import train_test_split\n",
    "X = digits.data\n",
    "y = digits.target\n",
    "\n",
    "#Split into training and test set\n",
    "X_train, X_test, y_train, y_test = train_test_split(X, y, test_size=0.2, random_state = 42, stratify=y)"
   ]
  },
  {
   "cell_type": "code",
   "execution_count": 6,
   "id": "18ba12fa",
   "metadata": {},
   "outputs": [
    {
     "name": "stdout",
     "output_type": "stream",
     "text": [
      "Accuracy: 0.9861111111111112\n"
     ]
    },
    {
     "name": "stderr",
     "output_type": "stream",
     "text": [
      "E:\\Anaconda\\lib\\site-packages\\sklearn\\neighbors\\_classification.py:228: FutureWarning: Unlike other reduction functions (e.g. `skew`, `kurtosis`), the default behavior of `mode` typically preserves the axis it acts along. In SciPy 1.11.0, this behavior will change: the default value of `keepdims` will become False, the `axis` over which the statistic is taken will be eliminated, and the value None will no longer be accepted. Set `keepdims` to True or False to avoid this warning.\n",
      "  mode, _ = stats.mode(_y[neigh_ind, k], axis=1)\n"
     ]
    }
   ],
   "source": [
    "#import necessary modules\n",
    "from sklearn.neighbors import KNeighborsClassifier\n",
    "\n",
    "import numpy as np\n",
    "\n",
    "#Create a K-NN classifier with 3 neighbors: knn\n",
    "knn = KNeighborsClassifier(n_neighbors=3)\n",
    "\n",
    "#Fit the classifier to the training data\n",
    "knn.fit(X_train, y_train)\n",
    "#Print the accuracy\n",
    "print(\"Accuracy: {0}\".format(knn.score(X_test, y_test)))"
   ]
  },
  {
   "cell_type": "markdown",
   "id": "e5166a69",
   "metadata": {},
   "source": [
    "Varying Number of Neighbours"
   ]
  },
  {
   "cell_type": "code",
   "execution_count": 7,
   "id": "8ae43120",
   "metadata": {},
   "outputs": [
    {
     "name": "stderr",
     "output_type": "stream",
     "text": [
      "E:\\Anaconda\\lib\\site-packages\\sklearn\\neighbors\\_classification.py:228: FutureWarning: Unlike other reduction functions (e.g. `skew`, `kurtosis`), the default behavior of `mode` typically preserves the axis it acts along. In SciPy 1.11.0, this behavior will change: the default value of `keepdims` will become False, the `axis` over which the statistic is taken will be eliminated, and the value None will no longer be accepted. Set `keepdims` to True or False to avoid this warning.\n",
      "  mode, _ = stats.mode(_y[neigh_ind, k], axis=1)\n",
      "E:\\Anaconda\\lib\\site-packages\\sklearn\\neighbors\\_classification.py:228: FutureWarning: Unlike other reduction functions (e.g. `skew`, `kurtosis`), the default behavior of `mode` typically preserves the axis it acts along. In SciPy 1.11.0, this behavior will change: the default value of `keepdims` will become False, the `axis` over which the statistic is taken will be eliminated, and the value None will no longer be accepted. Set `keepdims` to True or False to avoid this warning.\n",
      "  mode, _ = stats.mode(_y[neigh_ind, k], axis=1)\n",
      "E:\\Anaconda\\lib\\site-packages\\sklearn\\neighbors\\_classification.py:228: FutureWarning: Unlike other reduction functions (e.g. `skew`, `kurtosis`), the default behavior of `mode` typically preserves the axis it acts along. In SciPy 1.11.0, this behavior will change: the default value of `keepdims` will become False, the `axis` over which the statistic is taken will be eliminated, and the value None will no longer be accepted. Set `keepdims` to True or False to avoid this warning.\n",
      "  mode, _ = stats.mode(_y[neigh_ind, k], axis=1)\n",
      "E:\\Anaconda\\lib\\site-packages\\sklearn\\neighbors\\_classification.py:228: FutureWarning: Unlike other reduction functions (e.g. `skew`, `kurtosis`), the default behavior of `mode` typically preserves the axis it acts along. In SciPy 1.11.0, this behavior will change: the default value of `keepdims` will become False, the `axis` over which the statistic is taken will be eliminated, and the value None will no longer be accepted. Set `keepdims` to True or False to avoid this warning.\n",
      "  mode, _ = stats.mode(_y[neigh_ind, k], axis=1)\n",
      "E:\\Anaconda\\lib\\site-packages\\sklearn\\neighbors\\_classification.py:228: FutureWarning: Unlike other reduction functions (e.g. `skew`, `kurtosis`), the default behavior of `mode` typically preserves the axis it acts along. In SciPy 1.11.0, this behavior will change: the default value of `keepdims` will become False, the `axis` over which the statistic is taken will be eliminated, and the value None will no longer be accepted. Set `keepdims` to True or False to avoid this warning.\n",
      "  mode, _ = stats.mode(_y[neigh_ind, k], axis=1)\n",
      "E:\\Anaconda\\lib\\site-packages\\sklearn\\neighbors\\_classification.py:228: FutureWarning: Unlike other reduction functions (e.g. `skew`, `kurtosis`), the default behavior of `mode` typically preserves the axis it acts along. In SciPy 1.11.0, this behavior will change: the default value of `keepdims` will become False, the `axis` over which the statistic is taken will be eliminated, and the value None will no longer be accepted. Set `keepdims` to True or False to avoid this warning.\n",
      "  mode, _ = stats.mode(_y[neigh_ind, k], axis=1)\n",
      "E:\\Anaconda\\lib\\site-packages\\sklearn\\neighbors\\_classification.py:228: FutureWarning: Unlike other reduction functions (e.g. `skew`, `kurtosis`), the default behavior of `mode` typically preserves the axis it acts along. In SciPy 1.11.0, this behavior will change: the default value of `keepdims` will become False, the `axis` over which the statistic is taken will be eliminated, and the value None will no longer be accepted. Set `keepdims` to True or False to avoid this warning.\n",
      "  mode, _ = stats.mode(_y[neigh_ind, k], axis=1)\n",
      "E:\\Anaconda\\lib\\site-packages\\sklearn\\neighbors\\_classification.py:228: FutureWarning: Unlike other reduction functions (e.g. `skew`, `kurtosis`), the default behavior of `mode` typically preserves the axis it acts along. In SciPy 1.11.0, this behavior will change: the default value of `keepdims` will become False, the `axis` over which the statistic is taken will be eliminated, and the value None will no longer be accepted. Set `keepdims` to True or False to avoid this warning.\n",
      "  mode, _ = stats.mode(_y[neigh_ind, k], axis=1)\n",
      "E:\\Anaconda\\lib\\site-packages\\sklearn\\neighbors\\_classification.py:228: FutureWarning: Unlike other reduction functions (e.g. `skew`, `kurtosis`), the default behavior of `mode` typically preserves the axis it acts along. In SciPy 1.11.0, this behavior will change: the default value of `keepdims` will become False, the `axis` over which the statistic is taken will be eliminated, and the value None will no longer be accepted. Set `keepdims` to True or False to avoid this warning.\n",
      "  mode, _ = stats.mode(_y[neigh_ind, k], axis=1)\n",
      "E:\\Anaconda\\lib\\site-packages\\sklearn\\neighbors\\_classification.py:228: FutureWarning: Unlike other reduction functions (e.g. `skew`, `kurtosis`), the default behavior of `mode` typically preserves the axis it acts along. In SciPy 1.11.0, this behavior will change: the default value of `keepdims` will become False, the `axis` over which the statistic is taken will be eliminated, and the value None will no longer be accepted. Set `keepdims` to True or False to avoid this warning.\n",
      "  mode, _ = stats.mode(_y[neigh_ind, k], axis=1)\n",
      "E:\\Anaconda\\lib\\site-packages\\sklearn\\neighbors\\_classification.py:228: FutureWarning: Unlike other reduction functions (e.g. `skew`, `kurtosis`), the default behavior of `mode` typically preserves the axis it acts along. In SciPy 1.11.0, this behavior will change: the default value of `keepdims` will become False, the `axis` over which the statistic is taken will be eliminated, and the value None will no longer be accepted. Set `keepdims` to True or False to avoid this warning.\n",
      "  mode, _ = stats.mode(_y[neigh_ind, k], axis=1)\n",
      "E:\\Anaconda\\lib\\site-packages\\sklearn\\neighbors\\_classification.py:228: FutureWarning: Unlike other reduction functions (e.g. `skew`, `kurtosis`), the default behavior of `mode` typically preserves the axis it acts along. In SciPy 1.11.0, this behavior will change: the default value of `keepdims` will become False, the `axis` over which the statistic is taken will be eliminated, and the value None will no longer be accepted. Set `keepdims` to True or False to avoid this warning.\n",
      "  mode, _ = stats.mode(_y[neigh_ind, k], axis=1)\n",
      "E:\\Anaconda\\lib\\site-packages\\sklearn\\neighbors\\_classification.py:228: FutureWarning: Unlike other reduction functions (e.g. `skew`, `kurtosis`), the default behavior of `mode` typically preserves the axis it acts along. In SciPy 1.11.0, this behavior will change: the default value of `keepdims` will become False, the `axis` over which the statistic is taken will be eliminated, and the value None will no longer be accepted. Set `keepdims` to True or False to avoid this warning.\n",
      "  mode, _ = stats.mode(_y[neigh_ind, k], axis=1)\n",
      "E:\\Anaconda\\lib\\site-packages\\sklearn\\neighbors\\_classification.py:228: FutureWarning: Unlike other reduction functions (e.g. `skew`, `kurtosis`), the default behavior of `mode` typically preserves the axis it acts along. In SciPy 1.11.0, this behavior will change: the default value of `keepdims` will become False, the `axis` over which the statistic is taken will be eliminated, and the value None will no longer be accepted. Set `keepdims` to True or False to avoid this warning.\n",
      "  mode, _ = stats.mode(_y[neigh_ind, k], axis=1)\n",
      "E:\\Anaconda\\lib\\site-packages\\sklearn\\neighbors\\_classification.py:228: FutureWarning: Unlike other reduction functions (e.g. `skew`, `kurtosis`), the default behavior of `mode` typically preserves the axis it acts along. In SciPy 1.11.0, this behavior will change: the default value of `keepdims` will become False, the `axis` over which the statistic is taken will be eliminated, and the value None will no longer be accepted. Set `keepdims` to True or False to avoid this warning.\n",
      "  mode, _ = stats.mode(_y[neigh_ind, k], axis=1)\n",
      "E:\\Anaconda\\lib\\site-packages\\sklearn\\neighbors\\_classification.py:228: FutureWarning: Unlike other reduction functions (e.g. `skew`, `kurtosis`), the default behavior of `mode` typically preserves the axis it acts along. In SciPy 1.11.0, this behavior will change: the default value of `keepdims` will become False, the `axis` over which the statistic is taken will be eliminated, and the value None will no longer be accepted. Set `keepdims` to True or False to avoid this warning.\n",
      "  mode, _ = stats.mode(_y[neigh_ind, k], axis=1)\n"
     ]
    },
    {
     "data": {
      "image/png": "[encoded data removed]",
      "text/plain": [
       "<Figure size 640x480 with 1 Axes>"
      ]
     },
     "metadata": {},
     "output_type": "display_data"
    }
   ],
   "source": [
    "#Set up arrays to store train and test accuracies\n",
    "neighbors = np.arange(1,9)\n",
    "train_accuracy=np.empty(len(neighbors))\n",
    "test_accuracy = np.empty(len(neighbors))\n",
    "\n",
    "#Loop over different values of k\n",
    "for i, k in enumerate(neighbors):\n",
    "    #Set up a k-NN Classifier with k neighbors: knn\n",
    "    knn = KNeighborsClassifier(n_neighbors =k)\n",
    "    \n",
    "    #Fit the classifier to the training data\n",
    "    knn.fit(X_train, y_train)\n",
    "    \n",
    "    #Compute accuracy on the training set\n",
    "    train_accuracy[i] = knn.score(X_train, y_train)\n",
    "    \n",
    "    #Compute accuracy on the testing set\n",
    "    test_accuracy[i] = knn.score(X_test, y_test)\n",
    "\n",
    "#Generate plot\n",
    "plt.title('K-nn: Varying Number of Neighbors')\n",
    "plt.plot(neighbors, test_accuracy, label = 'Testing Accuracy')\n",
    "plt.plot(neighbors, train_accuracy, label = 'Training Accuracy')\n",
    "plt.legend()\n",
    "plt.xlabel('Number of Neighbors')\n",
    "plt.ylabel('Accuracy')\n",
    "plt.show()"
   ]
  },
  {
   "cell_type": "markdown",
   "id": "19c1293d",
   "metadata": {},
   "source": [
    "Classification with deep learning\n"
   ]
  },
  {
   "cell_type": "code",
   "execution_count": 8,
   "id": "0b692afa",
   "metadata": {},
   "outputs": [
    {
     "name": "stdout",
     "output_type": "stream",
     "text": [
      "Requirement already satisfied: torch in e:\\anaconda\\lib\\site-packages (2.0.0)\n",
      "Requirement already satisfied: networkx in e:\\anaconda\\lib\\site-packages (from torch) (2.8.4)\n",
      "Requirement already satisfied: jinja2 in e:\\anaconda\\lib\\site-packages (from torch) (2.11.3)\n",
      "Requirement already satisfied: typing-extensions in e:\\anaconda\\lib\\site-packages (from torch) (4.3.0)\n",
      "Requirement already satisfied: filelock in e:\\anaconda\\lib\\site-packages (from torch) (3.6.0)\n",
      "Requirement already satisfied: sympy in e:\\anaconda\\lib\\site-packages (from torch) (1.10.1)\n",
      "Requirement already satisfied: MarkupSafe>=0.23 in e:\\anaconda\\lib\\site-packages (from jinja2->torch) (2.0.1)\n",
      "Requirement already satisfied: mpmath>=0.19 in e:\\anaconda\\lib\\site-packages (from sympy->torch) (1.2.1)\n"
     ]
    }
   ],
   "source": [
    "!pip install torch"
   ]
  },
  {
   "cell_type": "code",
   "execution_count": 9,
   "id": "864af4ee",
   "metadata": {},
   "outputs": [],
   "source": [
    "from __future__ import print_function\n",
    "import torch\n",
    "import torch.nn as nn\n",
    "import torch.nn.functional as F\n",
    "from torch.autograd import Variable"
   ]
  },
  {
   "cell_type": "code",
   "execution_count": 10,
   "id": "2d181675",
   "metadata": {},
   "outputs": [
    {
     "name": "stdout",
     "output_type": "stream",
     "text": [
      "Requirement already satisfied: torchvision in e:\\anaconda\\lib\\site-packages (0.15.1)\n",
      "Requirement already satisfied: numpy in e:\\anaconda\\lib\\site-packages (from torchvision) (1.21.5)\n",
      "Requirement already satisfied: requests in e:\\anaconda\\lib\\site-packages (from torchvision) (2.28.1)\n",
      "Requirement already satisfied: pillow!=8.3.*,>=5.3.0 in e:\\anaconda\\lib\\site-packages (from torchvision) (9.2.0)\n",
      "Requirement already satisfied: torch==2.0.0 in e:\\anaconda\\lib\\site-packages (from torchvision) (2.0.0)\n",
      "Requirement already satisfied: networkx in e:\\anaconda\\lib\\site-packages (from torch==2.0.0->torchvision) (2.8.4)\n",
      "Requirement already satisfied: filelock in e:\\anaconda\\lib\\site-packages (from torch==2.0.0->torchvision) (3.6.0)\n",
      "Requirement already satisfied: jinja2 in e:\\anaconda\\lib\\site-packages (from torch==2.0.0->torchvision) (2.11.3)\n",
      "Requirement already satisfied: sympy in e:\\anaconda\\lib\\site-packages (from torch==2.0.0->torchvision) (1.10.1)\n",
      "Requirement already satisfied: typing-extensions in e:\\anaconda\\lib\\site-packages (from torch==2.0.0->torchvision) (4.3.0)\n",
      "Requirement already satisfied: idna<4,>=2.5 in e:\\anaconda\\lib\\site-packages (from requests->torchvision) (3.3)\n",
      "Requirement already satisfied: urllib3<1.27,>=1.21.1 in e:\\anaconda\\lib\\site-packages (from requests->torchvision) (1.26.11)\n",
      "Requirement already satisfied: certifi>=2017.4.17 in e:\\anaconda\\lib\\site-packages (from requests->torchvision) (2022.9.14)\n",
      "Requirement already satisfied: charset-normalizer<3,>=2 in e:\\anaconda\\lib\\site-packages (from requests->torchvision) (2.0.4)\n",
      "Requirement already satisfied: MarkupSafe>=0.23 in e:\\anaconda\\lib\\site-packages (from jinja2->torch==2.0.0->torchvision) (2.0.1)\n",
      "Requirement already satisfied: mpmath>=0.19 in e:\\anaconda\\lib\\site-packages (from sympy->torch==2.0.0->torchvision) (1.2.1)\n"
     ]
    }
   ],
   "source": [
    "!pip install torchvision"
   ]
  },
  {
   "cell_type": "code",
   "execution_count": 11,
   "id": "63911146",
   "metadata": {},
   "outputs": [],
   "source": [
    "from torchvision import datasets, transforms\n",
    "mnist = datasets.MNIST(root='.', train=True, download=True)"
   ]
  },
  {
   "cell_type": "code",
   "execution_count": 12,
   "id": "417cdd38",
   "metadata": {},
   "outputs": [
    {
     "name": "stdout",
     "output_type": "stream",
     "text": [
      "Number ò training examples torch.Size([60000, 28, 28])\n",
      "Image information (<PIL.Image.Image image mode=L size=28x28 at 0x1A51A82F700>, 5)\n"
     ]
    },
    {
     "name": "stderr",
     "output_type": "stream",
     "text": [
      "E:\\Anaconda\\lib\\site-packages\\torchvision\\datasets\\mnist.py:75: UserWarning: train_data has been renamed data\n",
      "  warnings.warn(\"train_data has been renamed data\")\n"
     ]
    }
   ],
   "source": [
    "print(\"Number ò training examples\", mnist.train_data.shape)\n",
    "print(\"Image information\", mnist[0])"
   ]
  },
  {
   "cell_type": "code",
   "execution_count": 13,
   "id": "4000d933",
   "metadata": {},
   "outputs": [
    {
     "data": {
      "text/plain": [
       "<matplotlib.image.AxesImage at 0x1a52a7f3fd0>"
      ]
     },
     "execution_count": 13,
     "metadata": {},
     "output_type": "execute_result"
    },
    {
     "data": {
      "image/png": "[encoded data removed]",
      "text/plain": [
       "<Figure size 640x480 with 1 Axes>"
      ]
     },
     "metadata": {},
     "output_type": "display_data"
    }
   ],
   "source": [
    "import matplotlib.pyplot as plt\n",
    "%matplotlib inline\n",
    "\n",
    "plt.imshow(mnist[0][0])"
   ]
  },
  {
   "cell_type": "code",
   "execution_count": 14,
   "id": "cf4bdc66",
   "metadata": {},
   "outputs": [],
   "source": [
    "class Net(nn.Module):\n",
    "    def __init__(self):\n",
    "        super(Net, self).__init__()\n",
    "        \n",
    "        self.fully = nn.Sequential(\n",
    "        nn.Linear(28*28, 10))\n",
    "        \n",
    "    def forward(self, x):\n",
    "        x= x.view([-1, 28*28])\n",
    "        x = self.fully(x)\n",
    "        x =F.log_softmax(x, dim=1)\n",
    "        return x"
   ]
  },
  {
   "cell_type": "code",
   "execution_count": 15,
   "id": "b226709f",
   "metadata": {},
   "outputs": [],
   "source": [
    "train_loader = torch.utils.data.DataLoader(datasets.MNIST(root='.', train=True, transform=transforms.Compose([transforms.ToTensor()])), batch_size=64, shuffle=True)\n",
    "test_loader = torch.utils.data.DataLoader(datasets.MNIST(root='.', train=True,transform=transforms.Compose([transforms.ToTensor()])), batch_size=1, shuffle=True)"
   ]
  },
  {
   "cell_type": "code",
   "execution_count": 16,
   "id": "a4f87b75",
   "metadata": {},
   "outputs": [],
   "source": [
    "def train():\n",
    "    learning_rate = 1e-3;\n",
    "    num_epochs=3\n",
    "    \n",
    "    net=Net()\n",
    "    optimizer = torch.optim.Adam(net.parameters(), lr=learning_rate)\n",
    "    \n",
    "    for epoch in range(num_epochs):\n",
    "        for batch_idx, (data, target) in enumerate(train_loader):\n",
    "            output = net(data)\n",
    "            \n",
    "            loss = F.nll_loss(output, target)\n",
    "            optimizer.zero_grad()\n",
    "            loss.backward()\n",
    "            optimizer.step()\n",
    "        \n",
    "            if batch_idx %100 ==0 :\n",
    "                print('Epoch = %f.Batch = %s.Loss = %s ' % (epoch, batch_idx, loss.item()))\n",
    "        return net\n",
    "           \n",
    "    "
   ]
  },
  {
   "cell_type": "code",
   "execution_count": 17,
   "id": "b103b1d7",
   "metadata": {},
   "outputs": [
    {
     "name": "stdout",
     "output_type": "stream",
     "text": [
      "Epoch = 0.000000.Batch = 0.Loss = 2.344655752182007 \n",
      "Epoch = 0.000000.Batch = 100.Loss = 0.781818687915802 \n",
      "Epoch = 0.000000.Batch = 200.Loss = 0.6181355118751526 \n",
      "Epoch = 0.000000.Batch = 300.Loss = 0.460765540599823 \n",
      "Epoch = 0.000000.Batch = 400.Loss = 0.40549129247665405 \n",
      "Epoch = 0.000000.Batch = 500.Loss = 0.38686931133270264 \n",
      "Epoch = 0.000000.Batch = 600.Loss = 0.3492695391178131 \n",
      "Epoch = 0.000000.Batch = 700.Loss = 0.3963686525821686 \n",
      "Epoch = 0.000000.Batch = 800.Loss = 0.29858025908470154 \n",
      "Epoch = 0.000000.Batch = 900.Loss = 0.347427636384964 \n"
     ]
    }
   ],
   "source": [
    "net = train()"
   ]
  },
  {
   "cell_type": "code",
   "execution_count": 18,
   "id": "68f7c960",
   "metadata": {},
   "outputs": [
    {
     "name": "stdout",
     "output_type": "stream",
     "text": [
      "Correct out of 60000 54356\n",
      "Percentage accuracy 5435.6\n"
     ]
    }
   ],
   "source": [
    "net.eval()\n",
    "test_loss =0\n",
    "correct =0\n",
    "total =0\n",
    "\n",
    "for data, target in test_loader:\n",
    "    total += len(target)\n",
    "    output = net(data)\n",
    "    pred = output.max(1, keepdim=True)[1]\n",
    "    correct += target.eq(pred.view_as(target)).sum()\n",
    "    \n",
    "print(\"Correct out of %s\" % total, correct.item())\n",
    "print(\"Percentage accuracy\", correct.item()*100/1000.)"
   ]
  },
  {
   "cell_type": "markdown",
   "id": "2ef80047",
   "metadata": {},
   "source": [
    "# Linear Regression"
   ]
  },
  {
   "cell_type": "markdown",
   "id": "d5c55edb",
   "metadata": {},
   "source": [
    "Load the dataset"
   ]
  },
  {
   "cell_type": "code",
   "execution_count": 19,
   "id": "9b0dab23",
   "metadata": {},
   "outputs": [],
   "source": [
    "#Import numpy and pandas\n",
    "import numpy as np\n",
    "import pandas as pd\n",
    "import seaborn as sns\n",
    "import matplotlib.pyplot as plt\n",
    "#Read the CSV file into a DataFrame: df\n",
    "df = pd.read_csv('gapminder.csv')"
   ]
  },
  {
   "cell_type": "markdown",
   "id": "36abb358",
   "metadata": {},
   "source": [
    "Use Seaborn to visualize the data of GapMinder like following image:\n"
   ]
  },
  {
   "cell_type": "code",
   "execution_count": 20,
   "id": "0fbbf64c",
   "metadata": {},
   "outputs": [
    {
     "data": {
      "image/png": "[encoded data removed]",
      "text/plain": [
       "<Figure size 640x480 with 2 Axes>"
      ]
     },
     "metadata": {},
     "output_type": "display_data"
    }
   ],
   "source": [
    "ax = sns.heatmap(df.corr(), square=True, cmap='RdYlGn')\n",
    "plt.show()"
   ]
  },
  {
   "cell_type": "markdown",
   "id": "be065a3c",
   "metadata": {},
   "source": [
    "Apply linear regression with the 'fertility' feature to predict life expectancy"
   ]
  },
  {
   "cell_type": "code",
   "execution_count": 24,
   "id": "62074eb2",
   "metadata": {},
   "outputs": [
    {
     "name": "stdout",
     "output_type": "stream",
     "text": [
      "0.6162438752151919\n"
     ]
    },
    {
     "data": {
      "image/png": "[encoded data removed]",
      "text/plain": [
       "<Figure size 640x480 with 1 Axes>"
      ]
     },
     "metadata": {},
     "output_type": "display_data"
    }
   ],
   "source": [
    "from sklearn.linear_model import LinearRegression, LogisticRegression\n",
    "from sklearn.linear_model import LinearRegression\n",
    "from sklearn.metrics import mean_squared_error\n",
    "from sklearn.model_selection import train_test_split\n",
    "\n",
    "x_fertility = df['fertility'].values.reshape(-1,1)\n",
    "y_life = df['life'].values.reshape(-1,1)\n",
    "prediction_space = np.linspace(min(x_fertility), max(x_fertility)).reshape(-1,1)\n",
    "#Create training and test sets\n",
    "x_train, x_test, y_train, y_test = train_test_split(x_fertility, y_life, test_size=0.3, random_state=42)\n",
    "#Create the regression model: req_all\n",
    "reg = LinearRegression()\n",
    "\n",
    "#Fit the regression to the training data\n",
    "reg.fit(x_train, y_train)\n",
    "y_predict = reg.predict(prediction_space)\n",
    "\n",
    "#Print accuracy\n",
    "print(reg.score(x_fertility, y_life))\n",
    "\n",
    "#Plot regression line\n",
    "\n",
    "plt.scatter(x_fertility, y_life , color = 'blue')\n",
    "plt.plot(prediction_space, y_predict, color = 'black', linewidth=3)\n",
    "plt.ylabel('life Expectancy')\n",
    "plt.xlabel('fertility')\n",
    "plt.show()"
   ]
  },
  {
   "cell_type": "markdown",
   "id": "4a485142",
   "metadata": {},
   "source": [
    "Apply linear regression with the all features to predict life expectancy. Compare the model score when \n",
    "using all features to one feature in previous step"
   ]
  },
  {
   "cell_type": "code",
   "execution_count": 26,
   "id": "c95e9804",
   "metadata": {},
   "outputs": [
    {
     "name": "stdout",
     "output_type": "stream",
     "text": [
      "0.8914651485793137\n"
     ]
    }
   ],
   "source": [
    "features =pd.read_csv('gapminder.csv')\n",
    "df = pd.read_csv('gapminder.csv')\n",
    "del features['life']\n",
    "del features['Region']\n",
    "\n",
    "y_life = df['life'].values.reshape(-1,1)\n",
    "\n",
    "#Create training and test sets\n",
    "x_train, x_test, y_train, y_test = train_test_split(features, y_life, test_size=0.3, random_state=42)\n",
    "\n",
    "#Create the regression model: reg_all\n",
    "reg_all = LinearRegression()\n",
    "\n",
    "#Fit the regression to the training data\n",
    "reg_all.fit(x_train, y_train)\n",
    "\n",
    "#Print accuracy\n",
    "print(reg_all.score(features, y_life))"
   ]
  },
  {
   "cell_type": "markdown",
   "id": "00e622ba",
   "metadata": {},
   "source": [
    "# Linear Regression using PyTorch"
   ]
  },
  {
   "cell_type": "code",
   "execution_count": 27,
   "id": "3b181e47",
   "metadata": {},
   "outputs": [],
   "source": [
    "import matplotlib.pyplot as plt\n",
    "%matplotlib inline\n",
    "import numpy as np\n"
   ]
  },
  {
   "cell_type": "code",
   "execution_count": 29,
   "id": "e7dc91a4",
   "metadata": {},
   "outputs": [
    {
     "data": {
      "image/png": "[encoded data removed]",
      "text/plain": [
       "<Figure size 640x480 with 1 Axes>"
      ]
     },
     "metadata": {},
     "output_type": "display_data"
    }
   ],
   "source": [
    "N=10\n",
    "m=.9\n",
    "c=1\n",
    "x = np.linspace(0.2*np.pi, N)\n",
    "y= m*x + c +np.random.normal(0, .3, x.shape)\n",
    "plt.figure()\n",
    "plt.xlabel('x')\n",
    "plt.ylabel('y')\n",
    "plt.title('2D data (#data = %d)' %N)\n",
    "plt.show()"
   ]
  },
  {
   "cell_type": "code",
   "execution_count": 30,
   "id": "94621472",
   "metadata": {},
   "outputs": [],
   "source": [
    "import torch"
   ]
  },
  {
   "cell_type": "markdown",
   "id": "42923c90",
   "metadata": {},
   "source": [
    "# Dataset"
   ]
  },
  {
   "cell_type": "code",
   "execution_count": 31,
   "id": "665cefb8",
   "metadata": {},
   "outputs": [],
   "source": [
    "from torch.utils.data import Dataset\n",
    "class MyDataset(Dataset):\n",
    "    def __init__(self, x, y):\n",
    "        self.x=x\n",
    "        self.y=y\n",
    "    def __len__(self):\n",
    "        return len(self.x)\n",
    "    def __getitem__(self, idx):\n",
    "        sample ={\n",
    "            'feature':torch.tensor([1, self.x[idx]]),\n",
    "            'label': torch.tensor([self.y[idx]])\n",
    "        }\n",
    "        return sample"
   ]
  },
  {
   "cell_type": "code",
   "execution_count": 32,
   "id": "57f90396",
   "metadata": {},
   "outputs": [
    {
     "name": "stdout",
     "output_type": "stream",
     "text": [
      "0 tensor([1.0000, 0.6283], dtype=torch.float64) tensor([1.4529], dtype=torch.float64)\n",
      "1 tensor([1.0000, 0.8196], dtype=torch.float64) tensor([1.7379], dtype=torch.float64)\n",
      "2 tensor([1.0000, 1.0108], dtype=torch.float64) tensor([2.0074], dtype=torch.float64)\n",
      "3 tensor([1.0000, 1.2021], dtype=torch.float64) tensor([1.7360], dtype=torch.float64)\n",
      "4 tensor([1.0000, 1.3934], dtype=torch.float64) tensor([2.3398], dtype=torch.float64)\n",
      "5 tensor([1.0000, 1.5846], dtype=torch.float64) tensor([2.1558], dtype=torch.float64)\n",
      "6 tensor([1.0000, 1.7759], dtype=torch.float64) tensor([2.7595], dtype=torch.float64)\n",
      "7 tensor([1.0000, 1.9671], dtype=torch.float64) tensor([2.6587], dtype=torch.float64)\n",
      "8 tensor([1.0000, 2.1584], dtype=torch.float64) tensor([2.5579], dtype=torch.float64)\n",
      "9 tensor([1.0000, 2.3496], dtype=torch.float64) tensor([3.1326], dtype=torch.float64)\n",
      "10 tensor([1.0000, 2.5409], dtype=torch.float64) tensor([2.6420], dtype=torch.float64)\n",
      "11 tensor([1.0000, 2.7322], dtype=torch.float64) tensor([4.0523], dtype=torch.float64)\n",
      "12 tensor([1.0000, 2.9234], dtype=torch.float64) tensor([3.8453], dtype=torch.float64)\n",
      "13 tensor([1.0000, 3.1147], dtype=torch.float64) tensor([4.3709], dtype=torch.float64)\n",
      "14 tensor([1.0000, 3.3059], dtype=torch.float64) tensor([3.8789], dtype=torch.float64)\n",
      "15 tensor([1.0000, 3.4972], dtype=torch.float64) tensor([4.2824], dtype=torch.float64)\n",
      "16 tensor([1.0000, 3.6885], dtype=torch.float64) tensor([4.4444], dtype=torch.float64)\n",
      "17 tensor([1.0000, 3.8797], dtype=torch.float64) tensor([4.0451], dtype=torch.float64)\n",
      "18 tensor([1.0000, 4.0710], dtype=torch.float64) tensor([4.6840], dtype=torch.float64)\n",
      "19 tensor([1.0000, 4.2622], dtype=torch.float64) tensor([5.0790], dtype=torch.float64)\n",
      "20 tensor([1.0000, 4.4535], dtype=torch.float64) tensor([5.1754], dtype=torch.float64)\n",
      "21 tensor([1.0000, 4.6448], dtype=torch.float64) tensor([5.3332], dtype=torch.float64)\n",
      "22 tensor([1.0000, 4.8360], dtype=torch.float64) tensor([5.7247], dtype=torch.float64)\n",
      "23 tensor([1.0000, 5.0273], dtype=torch.float64) tensor([5.7242], dtype=torch.float64)\n",
      "24 tensor([1.0000, 5.2185], dtype=torch.float64) tensor([5.7357], dtype=torch.float64)\n",
      "25 tensor([1.0000, 5.4098], dtype=torch.float64) tensor([6.0482], dtype=torch.float64)\n",
      "26 tensor([1.0000, 5.6010], dtype=torch.float64) tensor([5.8120], dtype=torch.float64)\n",
      "27 tensor([1.0000, 5.7923], dtype=torch.float64) tensor([6.0476], dtype=torch.float64)\n",
      "28 tensor([1.0000, 5.9836], dtype=torch.float64) tensor([6.0246], dtype=torch.float64)\n",
      "29 tensor([1.0000, 6.1748], dtype=torch.float64) tensor([6.4236], dtype=torch.float64)\n",
      "30 tensor([1.0000, 6.3661], dtype=torch.float64) tensor([7.0704], dtype=torch.float64)\n",
      "31 tensor([1.0000, 6.5573], dtype=torch.float64) tensor([6.2131], dtype=torch.float64)\n",
      "32 tensor([1.0000, 6.7486], dtype=torch.float64) tensor([6.6417], dtype=torch.float64)\n",
      "33 tensor([1.0000, 6.9399], dtype=torch.float64) tensor([7.7049], dtype=torch.float64)\n",
      "34 tensor([1.0000, 7.1311], dtype=torch.float64) tensor([7.1023], dtype=torch.float64)\n",
      "35 tensor([1.0000, 7.3224], dtype=torch.float64) tensor([7.1613], dtype=torch.float64)\n",
      "36 tensor([1.0000, 7.5136], dtype=torch.float64) tensor([7.5946], dtype=torch.float64)\n",
      "37 tensor([1.0000, 7.7049], dtype=torch.float64) tensor([8.0901], dtype=torch.float64)\n",
      "38 tensor([1.0000, 7.8962], dtype=torch.float64) tensor([8.0088], dtype=torch.float64)\n",
      "39 tensor([1.0000, 8.0874], dtype=torch.float64) tensor([7.9138], dtype=torch.float64)\n",
      "40 tensor([1.0000, 8.2787], dtype=torch.float64) tensor([7.9343], dtype=torch.float64)\n",
      "41 tensor([1.0000, 8.4699], dtype=torch.float64) tensor([8.0291], dtype=torch.float64)\n",
      "42 tensor([1.0000, 8.6612], dtype=torch.float64) tensor([8.6186], dtype=torch.float64)\n",
      "43 tensor([1.0000, 8.8524], dtype=torch.float64) tensor([9.0253], dtype=torch.float64)\n",
      "44 tensor([1.0000, 9.0437], dtype=torch.float64) tensor([9.3627], dtype=torch.float64)\n",
      "45 tensor([1.0000, 9.2350], dtype=torch.float64) tensor([9.8773], dtype=torch.float64)\n",
      "46 tensor([1.0000, 9.4262], dtype=torch.float64) tensor([9.3730], dtype=torch.float64)\n",
      "47 tensor([1.0000, 9.6175], dtype=torch.float64) tensor([9.3927], dtype=torch.float64)\n",
      "48 tensor([1.0000, 9.8087], dtype=torch.float64) tensor([9.9936], dtype=torch.float64)\n",
      "49 tensor([ 1., 10.], dtype=torch.float64) tensor([10.2595], dtype=torch.float64)\n"
     ]
    }
   ],
   "source": [
    "dataset = MyDataset(x,y)\n",
    "for i in range(len(dataset)):\n",
    "    sample = dataset[i]\n",
    "    print(i, sample['feature'], sample['label'])"
   ]
  },
  {
   "cell_type": "markdown",
   "id": "95d80854",
   "metadata": {},
   "source": [
    "# Dataloader\n"
   ]
  },
  {
   "cell_type": "code",
   "execution_count": null,
   "id": "50ca74ce",
   "metadata": {},
   "outputs": [],
   "source": [
    "from torch.utils.data import DataLoader\n",
    "\n",
    "dataset = MyDataset(x,y)\n",
    "batch_size = 1\n",
    "shuffle = True\n",
    "num_workers =8\n",
    "dataloader = DataLoader(dataset, batch_size =batch_size, shuffle=shuffle, num_workers=num_workers)"
   ]
  },
  {
   "cell_type": "code",
   "execution_count": 82,
   "id": "4575c6c8",
   "metadata": {},
   "outputs": [
    {
     "ename": "RuntimeError",
     "evalue": "DataLoader worker (pid(s) 2564, 13500, 13004, 14832, 1184, 17896, 14552, 7800, 7704, 15552) exited unexpectedly",
     "output_type": "error",
     "traceback": [
      "\u001b[1;31m---------------------------------------------------------------------------\u001b[0m",
      "\u001b[1;31mEmpty\u001b[0m                                     Traceback (most recent call last)",
      "\u001b[1;32mE:\\Anaconda\\lib\\site-packages\\torch\\utils\\data\\dataloader.py\u001b[0m in \u001b[0;36m_try_get_data\u001b[1;34m(self, timeout)\u001b[0m\n\u001b[0;32m   1132\u001b[0m         \u001b[1;32mtry\u001b[0m\u001b[1;33m:\u001b[0m\u001b[1;33m\u001b[0m\u001b[1;33m\u001b[0m\u001b[0m\n\u001b[1;32m-> 1133\u001b[1;33m             \u001b[0mdata\u001b[0m \u001b[1;33m=\u001b[0m \u001b[0mself\u001b[0m\u001b[1;33m.\u001b[0m\u001b[0m_data_queue\u001b[0m\u001b[1;33m.\u001b[0m\u001b[0mget\u001b[0m\u001b[1;33m(\u001b[0m\u001b[0mtimeout\u001b[0m\u001b[1;33m=\u001b[0m\u001b[0mtimeout\u001b[0m\u001b[1;33m)\u001b[0m\u001b[1;33m\u001b[0m\u001b[1;33m\u001b[0m\u001b[0m\n\u001b[0m\u001b[0;32m   1134\u001b[0m             \u001b[1;32mreturn\u001b[0m \u001b[1;33m(\u001b[0m\u001b[1;32mTrue\u001b[0m\u001b[1;33m,\u001b[0m \u001b[0mdata\u001b[0m\u001b[1;33m)\u001b[0m\u001b[1;33m\u001b[0m\u001b[1;33m\u001b[0m\u001b[0m\n",
      "\u001b[1;32mE:\\Anaconda\\lib\\multiprocessing\\queues.py\u001b[0m in \u001b[0;36mget\u001b[1;34m(self, block, timeout)\u001b[0m\n\u001b[0;32m    113\u001b[0m                     \u001b[1;32mif\u001b[0m \u001b[1;32mnot\u001b[0m \u001b[0mself\u001b[0m\u001b[1;33m.\u001b[0m\u001b[0m_poll\u001b[0m\u001b[1;33m(\u001b[0m\u001b[0mtimeout\u001b[0m\u001b[1;33m)\u001b[0m\u001b[1;33m:\u001b[0m\u001b[1;33m\u001b[0m\u001b[1;33m\u001b[0m\u001b[0m\n\u001b[1;32m--> 114\u001b[1;33m                         \u001b[1;32mraise\u001b[0m \u001b[0mEmpty\u001b[0m\u001b[1;33m\u001b[0m\u001b[1;33m\u001b[0m\u001b[0m\n\u001b[0m\u001b[0;32m    115\u001b[0m                 \u001b[1;32melif\u001b[0m \u001b[1;32mnot\u001b[0m \u001b[0mself\u001b[0m\u001b[1;33m.\u001b[0m\u001b[0m_poll\u001b[0m\u001b[1;33m(\u001b[0m\u001b[1;33m)\u001b[0m\u001b[1;33m:\u001b[0m\u001b[1;33m\u001b[0m\u001b[1;33m\u001b[0m\u001b[0m\n",
      "\u001b[1;31mEmpty\u001b[0m: ",
      "\nThe above exception was the direct cause of the following exception:\n",
      "\u001b[1;31mRuntimeError\u001b[0m                              Traceback (most recent call last)",
      "\u001b[1;32m~\\AppData\\Local\\Temp\\ipykernel_3708\\997894788.py\u001b[0m in \u001b[0;36m<module>\u001b[1;34m\u001b[0m\n\u001b[0;32m      1\u001b[0m \u001b[1;32mimport\u001b[0m \u001b[0mpprint\u001b[0m \u001b[1;32mas\u001b[0m \u001b[0mpp\u001b[0m\u001b[1;33m\u001b[0m\u001b[1;33m\u001b[0m\u001b[0m\n\u001b[1;32m----> 2\u001b[1;33m \u001b[1;32mfor\u001b[0m \u001b[0mi_batch\u001b[0m\u001b[1;33m,\u001b[0m \u001b[0msamples\u001b[0m \u001b[1;32min\u001b[0m \u001b[0menumerate\u001b[0m\u001b[1;33m(\u001b[0m\u001b[0mdataloader\u001b[0m\u001b[1;33m)\u001b[0m\u001b[1;33m:\u001b[0m\u001b[1;33m\u001b[0m\u001b[1;33m\u001b[0m\u001b[0m\n\u001b[0m\u001b[0;32m      3\u001b[0m     \u001b[0mprint\u001b[0m\u001b[1;33m(\u001b[0m\u001b[1;34m'\\nbatch# = %s'\u001b[0m \u001b[1;33m%\u001b[0m \u001b[0mi_batch\u001b[0m\u001b[1;33m)\u001b[0m\u001b[1;33m\u001b[0m\u001b[1;33m\u001b[0m\u001b[0m\n\u001b[0;32m      4\u001b[0m     \u001b[0mprint\u001b[0m\u001b[1;33m(\u001b[0m\u001b[1;34m'samples: '\u001b[0m\u001b[1;33m)\u001b[0m\u001b[1;33m\u001b[0m\u001b[1;33m\u001b[0m\u001b[0m\n\u001b[0;32m      5\u001b[0m     \u001b[0mpp\u001b[0m\u001b[1;33m.\u001b[0m\u001b[0mpprint\u001b[0m\u001b[1;33m(\u001b[0m\u001b[0msamples\u001b[0m\u001b[1;33m)\u001b[0m\u001b[1;33m\u001b[0m\u001b[1;33m\u001b[0m\u001b[0m\n",
      "\u001b[1;32mE:\\Anaconda\\lib\\site-packages\\torch\\utils\\data\\dataloader.py\u001b[0m in \u001b[0;36m__next__\u001b[1;34m(self)\u001b[0m\n\u001b[0;32m    632\u001b[0m                 \u001b[1;31m# TODO(https://github.com/pytorch/pytorch/issues/76750)\u001b[0m\u001b[1;33m\u001b[0m\u001b[1;33m\u001b[0m\u001b[0m\n\u001b[0;32m    633\u001b[0m                 \u001b[0mself\u001b[0m\u001b[1;33m.\u001b[0m\u001b[0m_reset\u001b[0m\u001b[1;33m(\u001b[0m\u001b[1;33m)\u001b[0m  \u001b[1;31m# type: ignore[call-arg]\u001b[0m\u001b[1;33m\u001b[0m\u001b[1;33m\u001b[0m\u001b[0m\n\u001b[1;32m--> 634\u001b[1;33m             \u001b[0mdata\u001b[0m \u001b[1;33m=\u001b[0m \u001b[0mself\u001b[0m\u001b[1;33m.\u001b[0m\u001b[0m_next_data\u001b[0m\u001b[1;33m(\u001b[0m\u001b[1;33m)\u001b[0m\u001b[1;33m\u001b[0m\u001b[1;33m\u001b[0m\u001b[0m\n\u001b[0m\u001b[0;32m    635\u001b[0m             \u001b[0mself\u001b[0m\u001b[1;33m.\u001b[0m\u001b[0m_num_yielded\u001b[0m \u001b[1;33m+=\u001b[0m \u001b[1;36m1\u001b[0m\u001b[1;33m\u001b[0m\u001b[1;33m\u001b[0m\u001b[0m\n\u001b[0;32m    636\u001b[0m             \u001b[1;32mif\u001b[0m \u001b[0mself\u001b[0m\u001b[1;33m.\u001b[0m\u001b[0m_dataset_kind\u001b[0m \u001b[1;33m==\u001b[0m \u001b[0m_DatasetKind\u001b[0m\u001b[1;33m.\u001b[0m\u001b[0mIterable\u001b[0m \u001b[1;32mand\u001b[0m\u001b[0;31m \u001b[0m\u001b[0;31m\\\u001b[0m\u001b[1;33m\u001b[0m\u001b[1;33m\u001b[0m\u001b[0m\n",
      "\u001b[1;32mE:\\Anaconda\\lib\\site-packages\\torch\\utils\\data\\dataloader.py\u001b[0m in \u001b[0;36m_next_data\u001b[1;34m(self)\u001b[0m\n\u001b[0;32m   1327\u001b[0m \u001b[1;33m\u001b[0m\u001b[0m\n\u001b[0;32m   1328\u001b[0m             \u001b[1;32massert\u001b[0m \u001b[1;32mnot\u001b[0m \u001b[0mself\u001b[0m\u001b[1;33m.\u001b[0m\u001b[0m_shutdown\u001b[0m \u001b[1;32mand\u001b[0m \u001b[0mself\u001b[0m\u001b[1;33m.\u001b[0m\u001b[0m_tasks_outstanding\u001b[0m \u001b[1;33m>\u001b[0m \u001b[1;36m0\u001b[0m\u001b[1;33m\u001b[0m\u001b[1;33m\u001b[0m\u001b[0m\n\u001b[1;32m-> 1329\u001b[1;33m             \u001b[0midx\u001b[0m\u001b[1;33m,\u001b[0m \u001b[0mdata\u001b[0m \u001b[1;33m=\u001b[0m \u001b[0mself\u001b[0m\u001b[1;33m.\u001b[0m\u001b[0m_get_data\u001b[0m\u001b[1;33m(\u001b[0m\u001b[1;33m)\u001b[0m\u001b[1;33m\u001b[0m\u001b[1;33m\u001b[0m\u001b[0m\n\u001b[0m\u001b[0;32m   1330\u001b[0m             \u001b[0mself\u001b[0m\u001b[1;33m.\u001b[0m\u001b[0m_tasks_outstanding\u001b[0m \u001b[1;33m-=\u001b[0m \u001b[1;36m1\u001b[0m\u001b[1;33m\u001b[0m\u001b[1;33m\u001b[0m\u001b[0m\n\u001b[0;32m   1331\u001b[0m             \u001b[1;32mif\u001b[0m \u001b[0mself\u001b[0m\u001b[1;33m.\u001b[0m\u001b[0m_dataset_kind\u001b[0m \u001b[1;33m==\u001b[0m \u001b[0m_DatasetKind\u001b[0m\u001b[1;33m.\u001b[0m\u001b[0mIterable\u001b[0m\u001b[1;33m:\u001b[0m\u001b[1;33m\u001b[0m\u001b[1;33m\u001b[0m\u001b[0m\n",
      "\u001b[1;32mE:\\Anaconda\\lib\\site-packages\\torch\\utils\\data\\dataloader.py\u001b[0m in \u001b[0;36m_get_data\u001b[1;34m(self)\u001b[0m\n\u001b[0;32m   1293\u001b[0m         \u001b[1;32melse\u001b[0m\u001b[1;33m:\u001b[0m\u001b[1;33m\u001b[0m\u001b[1;33m\u001b[0m\u001b[0m\n\u001b[0;32m   1294\u001b[0m             \u001b[1;32mwhile\u001b[0m \u001b[1;32mTrue\u001b[0m\u001b[1;33m:\u001b[0m\u001b[1;33m\u001b[0m\u001b[1;33m\u001b[0m\u001b[0m\n\u001b[1;32m-> 1295\u001b[1;33m                 \u001b[0msuccess\u001b[0m\u001b[1;33m,\u001b[0m \u001b[0mdata\u001b[0m \u001b[1;33m=\u001b[0m \u001b[0mself\u001b[0m\u001b[1;33m.\u001b[0m\u001b[0m_try_get_data\u001b[0m\u001b[1;33m(\u001b[0m\u001b[1;33m)\u001b[0m\u001b[1;33m\u001b[0m\u001b[1;33m\u001b[0m\u001b[0m\n\u001b[0m\u001b[0;32m   1296\u001b[0m                 \u001b[1;32mif\u001b[0m \u001b[0msuccess\u001b[0m\u001b[1;33m:\u001b[0m\u001b[1;33m\u001b[0m\u001b[1;33m\u001b[0m\u001b[0m\n\u001b[0;32m   1297\u001b[0m                     \u001b[1;32mreturn\u001b[0m \u001b[0mdata\u001b[0m\u001b[1;33m\u001b[0m\u001b[1;33m\u001b[0m\u001b[0m\n",
      "\u001b[1;32mE:\\Anaconda\\lib\\site-packages\\torch\\utils\\data\\dataloader.py\u001b[0m in \u001b[0;36m_try_get_data\u001b[1;34m(self, timeout)\u001b[0m\n\u001b[0;32m   1144\u001b[0m             \u001b[1;32mif\u001b[0m \u001b[0mlen\u001b[0m\u001b[1;33m(\u001b[0m\u001b[0mfailed_workers\u001b[0m\u001b[1;33m)\u001b[0m \u001b[1;33m>\u001b[0m \u001b[1;36m0\u001b[0m\u001b[1;33m:\u001b[0m\u001b[1;33m\u001b[0m\u001b[1;33m\u001b[0m\u001b[0m\n\u001b[0;32m   1145\u001b[0m                 \u001b[0mpids_str\u001b[0m \u001b[1;33m=\u001b[0m \u001b[1;34m', '\u001b[0m\u001b[1;33m.\u001b[0m\u001b[0mjoin\u001b[0m\u001b[1;33m(\u001b[0m\u001b[0mstr\u001b[0m\u001b[1;33m(\u001b[0m\u001b[0mw\u001b[0m\u001b[1;33m.\u001b[0m\u001b[0mpid\u001b[0m\u001b[1;33m)\u001b[0m \u001b[1;32mfor\u001b[0m \u001b[0mw\u001b[0m \u001b[1;32min\u001b[0m \u001b[0mfailed_workers\u001b[0m\u001b[1;33m)\u001b[0m\u001b[1;33m\u001b[0m\u001b[1;33m\u001b[0m\u001b[0m\n\u001b[1;32m-> 1146\u001b[1;33m                 \u001b[1;32mraise\u001b[0m \u001b[0mRuntimeError\u001b[0m\u001b[1;33m(\u001b[0m\u001b[1;34m'DataLoader worker (pid(s) {}) exited unexpectedly'\u001b[0m\u001b[1;33m.\u001b[0m\u001b[0mformat\u001b[0m\u001b[1;33m(\u001b[0m\u001b[0mpids_str\u001b[0m\u001b[1;33m)\u001b[0m\u001b[1;33m)\u001b[0m \u001b[1;32mfrom\u001b[0m \u001b[0me\u001b[0m\u001b[1;33m\u001b[0m\u001b[1;33m\u001b[0m\u001b[0m\n\u001b[0m\u001b[0;32m   1147\u001b[0m             \u001b[1;32mif\u001b[0m \u001b[0misinstance\u001b[0m\u001b[1;33m(\u001b[0m\u001b[0me\u001b[0m\u001b[1;33m,\u001b[0m \u001b[0mqueue\u001b[0m\u001b[1;33m.\u001b[0m\u001b[0mEmpty\u001b[0m\u001b[1;33m)\u001b[0m\u001b[1;33m:\u001b[0m\u001b[1;33m\u001b[0m\u001b[1;33m\u001b[0m\u001b[0m\n\u001b[0;32m   1148\u001b[0m                 \u001b[1;32mreturn\u001b[0m \u001b[1;33m(\u001b[0m\u001b[1;32mFalse\u001b[0m\u001b[1;33m,\u001b[0m \u001b[1;32mNone\u001b[0m\u001b[1;33m)\u001b[0m\u001b[1;33m\u001b[0m\u001b[1;33m\u001b[0m\u001b[0m\n",
      "\u001b[1;31mRuntimeError\u001b[0m: DataLoader worker (pid(s) 2564, 13500, 13004, 14832, 1184, 17896, 14552, 7800, 7704, 15552) exited unexpectedly"
     ]
    }
   ],
   "source": [
    "import pprint as pp\n",
    "for i_batch, samples in enumerate(dataloader):\n",
    "    print('\\nbatch# = %s' % i_batch)\n",
    "    print('samples: ')\n",
    "    pp.pprint(samples)"
   ]
  },
  {
   "cell_type": "markdown",
   "id": "c5cc37a6",
   "metadata": {},
   "source": [
    "# Model"
   ]
  },
  {
   "cell_type": "code",
   "execution_count": 57,
   "id": "829a7938",
   "metadata": {},
   "outputs": [
    {
     "name": "stderr",
     "output_type": "stream",
     "text": [
      "ERROR: Could not find a version that satisfies the requirement torch.nn.function (from versions: none)\n",
      "ERROR: No matching distribution found for torch.nn.function\n"
     ]
    }
   ],
   "source": [
    "!pip install torch.nn.function"
   ]
  },
  {
   "cell_type": "code",
   "execution_count": 58,
   "id": "84762c5b",
   "metadata": {},
   "outputs": [],
   "source": [
    "import torch.nn as nn\n",
    "import torch.nn.functional as F\n",
    "\n",
    "class MyModel(nn.Module):\n",
    "    def __init__(self, input_dim,output_dim):\n",
    "        super(MyModel ,self).__init__()\n",
    "        self.linear = nn.Linear(input_dim, output_dim)\n",
    "        \n",
    "    def forward(self, x):\n",
    "        out =self.linear(x)\n",
    "        return out"
   ]
  },
  {
   "cell_type": "markdown",
   "id": "9c19e54a",
   "metadata": {},
   "source": [
    "# Setting a model for out problem"
   ]
  },
  {
   "cell_type": "code",
   "execution_count": 60,
   "id": "3fb86507",
   "metadata": {},
   "outputs": [],
   "source": [
    "input_dim=2\n",
    "output_dim=1\n",
    "\n",
    "model = MyModel(input_dim, output_dim)"
   ]
  },
  {
   "cell_type": "markdown",
   "id": "18dada62",
   "metadata": {},
   "source": [
    "# Cost Function"
   ]
  },
  {
   "cell_type": "markdown",
   "id": "c8c28b1e",
   "metadata": {},
   "source": [
    "Often called loss or error"
   ]
  },
  {
   "cell_type": "code",
   "execution_count": 61,
   "id": "c9796720",
   "metadata": {},
   "outputs": [],
   "source": [
    "cost = nn.MSELoss()"
   ]
  },
  {
   "cell_type": "markdown",
   "id": "3a09b91c",
   "metadata": {},
   "source": [
    "# Minimizing the cost function"
   ]
  },
  {
   "cell_type": "markdown",
   "id": "d319b77b",
   "metadata": {},
   "source": [
    "In other words training (or learning from data)"
   ]
  },
  {
   "cell_type": "code",
   "execution_count": 81,
   "id": "5c4d4406",
   "metadata": {},
   "outputs": [
    {
     "name": "stdout",
     "output_type": "stream",
     "text": [
      "Epoch = 0\n"
     ]
    },
    {
     "ename": "RuntimeError",
     "evalue": "DataLoader worker (pid(s) 1120, 19624, 7340, 15244, 19192, 11188, 10920, 17616) exited unexpectedly",
     "output_type": "error",
     "traceback": [
      "\u001b[1;31m---------------------------------------------------------------------------\u001b[0m",
      "\u001b[1;31mEmpty\u001b[0m                                     Traceback (most recent call last)",
      "\u001b[1;32mE:\\Anaconda\\lib\\site-packages\\torch\\utils\\data\\dataloader.py\u001b[0m in \u001b[0;36m_try_get_data\u001b[1;34m(self, timeout)\u001b[0m\n\u001b[0;32m   1132\u001b[0m         \u001b[1;32mtry\u001b[0m\u001b[1;33m:\u001b[0m\u001b[1;33m\u001b[0m\u001b[1;33m\u001b[0m\u001b[0m\n\u001b[1;32m-> 1133\u001b[1;33m             \u001b[0mdata\u001b[0m \u001b[1;33m=\u001b[0m \u001b[0mself\u001b[0m\u001b[1;33m.\u001b[0m\u001b[0m_data_queue\u001b[0m\u001b[1;33m.\u001b[0m\u001b[0mget\u001b[0m\u001b[1;33m(\u001b[0m\u001b[0mtimeout\u001b[0m\u001b[1;33m=\u001b[0m\u001b[0mtimeout\u001b[0m\u001b[1;33m)\u001b[0m\u001b[1;33m\u001b[0m\u001b[1;33m\u001b[0m\u001b[0m\n\u001b[0m\u001b[0;32m   1134\u001b[0m             \u001b[1;32mreturn\u001b[0m \u001b[1;33m(\u001b[0m\u001b[1;32mTrue\u001b[0m\u001b[1;33m,\u001b[0m \u001b[0mdata\u001b[0m\u001b[1;33m)\u001b[0m\u001b[1;33m\u001b[0m\u001b[1;33m\u001b[0m\u001b[0m\n",
      "\u001b[1;32mE:\\Anaconda\\lib\\multiprocessing\\queues.py\u001b[0m in \u001b[0;36mget\u001b[1;34m(self, block, timeout)\u001b[0m\n\u001b[0;32m    113\u001b[0m                     \u001b[1;32mif\u001b[0m \u001b[1;32mnot\u001b[0m \u001b[0mself\u001b[0m\u001b[1;33m.\u001b[0m\u001b[0m_poll\u001b[0m\u001b[1;33m(\u001b[0m\u001b[0mtimeout\u001b[0m\u001b[1;33m)\u001b[0m\u001b[1;33m:\u001b[0m\u001b[1;33m\u001b[0m\u001b[1;33m\u001b[0m\u001b[0m\n\u001b[1;32m--> 114\u001b[1;33m                         \u001b[1;32mraise\u001b[0m \u001b[0mEmpty\u001b[0m\u001b[1;33m\u001b[0m\u001b[1;33m\u001b[0m\u001b[0m\n\u001b[0m\u001b[0;32m    115\u001b[0m                 \u001b[1;32melif\u001b[0m \u001b[1;32mnot\u001b[0m \u001b[0mself\u001b[0m\u001b[1;33m.\u001b[0m\u001b[0m_poll\u001b[0m\u001b[1;33m(\u001b[0m\u001b[1;33m)\u001b[0m\u001b[1;33m:\u001b[0m\u001b[1;33m\u001b[0m\u001b[1;33m\u001b[0m\u001b[0m\n",
      "\u001b[1;31mEmpty\u001b[0m: ",
      "\nThe above exception was the direct cause of the following exception:\n",
      "\u001b[1;31mRuntimeError\u001b[0m                              Traceback (most recent call last)",
      "\u001b[1;32m~\\AppData\\Local\\Temp\\ipykernel_3708\\4199232957.py\u001b[0m in \u001b[0;36m<module>\u001b[1;34m\u001b[0m\n\u001b[0;32m     13\u001b[0m \u001b[1;32mfor\u001b[0m \u001b[0mepoch\u001b[0m \u001b[1;32min\u001b[0m \u001b[0mrange\u001b[0m\u001b[1;33m(\u001b[0m\u001b[0mnum_epochs\u001b[0m\u001b[1;33m)\u001b[0m\u001b[1;33m:\u001b[0m\u001b[1;33m\u001b[0m\u001b[1;33m\u001b[0m\u001b[0m\n\u001b[0;32m     14\u001b[0m     \u001b[0mprint\u001b[0m\u001b[1;33m(\u001b[0m\u001b[1;34m'Epoch = %s'\u001b[0m \u001b[1;33m%\u001b[0m \u001b[0mepoch\u001b[0m\u001b[1;33m)\u001b[0m\u001b[1;33m\u001b[0m\u001b[1;33m\u001b[0m\u001b[0m\n\u001b[1;32m---> 15\u001b[1;33m     \u001b[1;32mfor\u001b[0m \u001b[0mbatch_i\u001b[0m\u001b[1;33m,\u001b[0m \u001b[0msamples\u001b[0m \u001b[1;32min\u001b[0m \u001b[0menumerate\u001b[0m \u001b[1;33m(\u001b[0m\u001b[0mtraining_sample_generator\u001b[0m\u001b[1;33m)\u001b[0m\u001b[1;33m:\u001b[0m\u001b[1;33m\u001b[0m\u001b[1;33m\u001b[0m\u001b[0m\n\u001b[0m\u001b[0;32m     16\u001b[0m         \u001b[0mpredictions\u001b[0m \u001b[1;33m=\u001b[0m \u001b[0mmodel\u001b[0m\u001b[1;33m(\u001b[0m\u001b[0msamples\u001b[0m\u001b[1;33m[\u001b[0m\u001b[1;34m'features'\u001b[0m\u001b[1;33m]\u001b[0m\u001b[1;33m)\u001b[0m\u001b[1;33m\u001b[0m\u001b[1;33m\u001b[0m\u001b[0m\n\u001b[0;32m     17\u001b[0m         \u001b[0merror\u001b[0m \u001b[1;33m=\u001b[0m \u001b[0mcost\u001b[0m\u001b[1;33m(\u001b[0m\u001b[0mpredictions\u001b[0m\u001b[1;33m,\u001b[0m \u001b[0msamples\u001b[0m\u001b[1;33m[\u001b[0m\u001b[1;34m'label'\u001b[0m\u001b[1;33m]\u001b[0m\u001b[1;33m)\u001b[0m\u001b[1;33m\u001b[0m\u001b[1;33m\u001b[0m\u001b[0m\n",
      "\u001b[1;32mE:\\Anaconda\\lib\\site-packages\\torch\\utils\\data\\dataloader.py\u001b[0m in \u001b[0;36m__next__\u001b[1;34m(self)\u001b[0m\n\u001b[0;32m    632\u001b[0m                 \u001b[1;31m# TODO(https://github.com/pytorch/pytorch/issues/76750)\u001b[0m\u001b[1;33m\u001b[0m\u001b[1;33m\u001b[0m\u001b[0m\n\u001b[0;32m    633\u001b[0m                 \u001b[0mself\u001b[0m\u001b[1;33m.\u001b[0m\u001b[0m_reset\u001b[0m\u001b[1;33m(\u001b[0m\u001b[1;33m)\u001b[0m  \u001b[1;31m# type: ignore[call-arg]\u001b[0m\u001b[1;33m\u001b[0m\u001b[1;33m\u001b[0m\u001b[0m\n\u001b[1;32m--> 634\u001b[1;33m             \u001b[0mdata\u001b[0m \u001b[1;33m=\u001b[0m \u001b[0mself\u001b[0m\u001b[1;33m.\u001b[0m\u001b[0m_next_data\u001b[0m\u001b[1;33m(\u001b[0m\u001b[1;33m)\u001b[0m\u001b[1;33m\u001b[0m\u001b[1;33m\u001b[0m\u001b[0m\n\u001b[0m\u001b[0;32m    635\u001b[0m             \u001b[0mself\u001b[0m\u001b[1;33m.\u001b[0m\u001b[0m_num_yielded\u001b[0m \u001b[1;33m+=\u001b[0m \u001b[1;36m1\u001b[0m\u001b[1;33m\u001b[0m\u001b[1;33m\u001b[0m\u001b[0m\n\u001b[0;32m    636\u001b[0m             \u001b[1;32mif\u001b[0m \u001b[0mself\u001b[0m\u001b[1;33m.\u001b[0m\u001b[0m_dataset_kind\u001b[0m \u001b[1;33m==\u001b[0m \u001b[0m_DatasetKind\u001b[0m\u001b[1;33m.\u001b[0m\u001b[0mIterable\u001b[0m \u001b[1;32mand\u001b[0m\u001b[0;31m \u001b[0m\u001b[0;31m\\\u001b[0m\u001b[1;33m\u001b[0m\u001b[1;33m\u001b[0m\u001b[0m\n",
      "\u001b[1;32mE:\\Anaconda\\lib\\site-packages\\torch\\utils\\data\\dataloader.py\u001b[0m in \u001b[0;36m_next_data\u001b[1;34m(self)\u001b[0m\n\u001b[0;32m   1327\u001b[0m \u001b[1;33m\u001b[0m\u001b[0m\n\u001b[0;32m   1328\u001b[0m             \u001b[1;32massert\u001b[0m \u001b[1;32mnot\u001b[0m \u001b[0mself\u001b[0m\u001b[1;33m.\u001b[0m\u001b[0m_shutdown\u001b[0m \u001b[1;32mand\u001b[0m \u001b[0mself\u001b[0m\u001b[1;33m.\u001b[0m\u001b[0m_tasks_outstanding\u001b[0m \u001b[1;33m>\u001b[0m \u001b[1;36m0\u001b[0m\u001b[1;33m\u001b[0m\u001b[1;33m\u001b[0m\u001b[0m\n\u001b[1;32m-> 1329\u001b[1;33m             \u001b[0midx\u001b[0m\u001b[1;33m,\u001b[0m \u001b[0mdata\u001b[0m \u001b[1;33m=\u001b[0m \u001b[0mself\u001b[0m\u001b[1;33m.\u001b[0m\u001b[0m_get_data\u001b[0m\u001b[1;33m(\u001b[0m\u001b[1;33m)\u001b[0m\u001b[1;33m\u001b[0m\u001b[1;33m\u001b[0m\u001b[0m\n\u001b[0m\u001b[0;32m   1330\u001b[0m             \u001b[0mself\u001b[0m\u001b[1;33m.\u001b[0m\u001b[0m_tasks_outstanding\u001b[0m \u001b[1;33m-=\u001b[0m \u001b[1;36m1\u001b[0m\u001b[1;33m\u001b[0m\u001b[1;33m\u001b[0m\u001b[0m\n\u001b[0;32m   1331\u001b[0m             \u001b[1;32mif\u001b[0m \u001b[0mself\u001b[0m\u001b[1;33m.\u001b[0m\u001b[0m_dataset_kind\u001b[0m \u001b[1;33m==\u001b[0m \u001b[0m_DatasetKind\u001b[0m\u001b[1;33m.\u001b[0m\u001b[0mIterable\u001b[0m\u001b[1;33m:\u001b[0m\u001b[1;33m\u001b[0m\u001b[1;33m\u001b[0m\u001b[0m\n",
      "\u001b[1;32mE:\\Anaconda\\lib\\site-packages\\torch\\utils\\data\\dataloader.py\u001b[0m in \u001b[0;36m_get_data\u001b[1;34m(self)\u001b[0m\n\u001b[0;32m   1293\u001b[0m         \u001b[1;32melse\u001b[0m\u001b[1;33m:\u001b[0m\u001b[1;33m\u001b[0m\u001b[1;33m\u001b[0m\u001b[0m\n\u001b[0;32m   1294\u001b[0m             \u001b[1;32mwhile\u001b[0m \u001b[1;32mTrue\u001b[0m\u001b[1;33m:\u001b[0m\u001b[1;33m\u001b[0m\u001b[1;33m\u001b[0m\u001b[0m\n\u001b[1;32m-> 1295\u001b[1;33m                 \u001b[0msuccess\u001b[0m\u001b[1;33m,\u001b[0m \u001b[0mdata\u001b[0m \u001b[1;33m=\u001b[0m \u001b[0mself\u001b[0m\u001b[1;33m.\u001b[0m\u001b[0m_try_get_data\u001b[0m\u001b[1;33m(\u001b[0m\u001b[1;33m)\u001b[0m\u001b[1;33m\u001b[0m\u001b[1;33m\u001b[0m\u001b[0m\n\u001b[0m\u001b[0;32m   1296\u001b[0m                 \u001b[1;32mif\u001b[0m \u001b[0msuccess\u001b[0m\u001b[1;33m:\u001b[0m\u001b[1;33m\u001b[0m\u001b[1;33m\u001b[0m\u001b[0m\n\u001b[0;32m   1297\u001b[0m                     \u001b[1;32mreturn\u001b[0m \u001b[0mdata\u001b[0m\u001b[1;33m\u001b[0m\u001b[1;33m\u001b[0m\u001b[0m\n",
      "\u001b[1;32mE:\\Anaconda\\lib\\site-packages\\torch\\utils\\data\\dataloader.py\u001b[0m in \u001b[0;36m_try_get_data\u001b[1;34m(self, timeout)\u001b[0m\n\u001b[0;32m   1144\u001b[0m             \u001b[1;32mif\u001b[0m \u001b[0mlen\u001b[0m\u001b[1;33m(\u001b[0m\u001b[0mfailed_workers\u001b[0m\u001b[1;33m)\u001b[0m \u001b[1;33m>\u001b[0m \u001b[1;36m0\u001b[0m\u001b[1;33m:\u001b[0m\u001b[1;33m\u001b[0m\u001b[1;33m\u001b[0m\u001b[0m\n\u001b[0;32m   1145\u001b[0m                 \u001b[0mpids_str\u001b[0m \u001b[1;33m=\u001b[0m \u001b[1;34m', '\u001b[0m\u001b[1;33m.\u001b[0m\u001b[0mjoin\u001b[0m\u001b[1;33m(\u001b[0m\u001b[0mstr\u001b[0m\u001b[1;33m(\u001b[0m\u001b[0mw\u001b[0m\u001b[1;33m.\u001b[0m\u001b[0mpid\u001b[0m\u001b[1;33m)\u001b[0m \u001b[1;32mfor\u001b[0m \u001b[0mw\u001b[0m \u001b[1;32min\u001b[0m \u001b[0mfailed_workers\u001b[0m\u001b[1;33m)\u001b[0m\u001b[1;33m\u001b[0m\u001b[1;33m\u001b[0m\u001b[0m\n\u001b[1;32m-> 1146\u001b[1;33m                 \u001b[1;32mraise\u001b[0m \u001b[0mRuntimeError\u001b[0m\u001b[1;33m(\u001b[0m\u001b[1;34m'DataLoader worker (pid(s) {}) exited unexpectedly'\u001b[0m\u001b[1;33m.\u001b[0m\u001b[0mformat\u001b[0m\u001b[1;33m(\u001b[0m\u001b[0mpids_str\u001b[0m\u001b[1;33m)\u001b[0m\u001b[1;33m)\u001b[0m \u001b[1;32mfrom\u001b[0m \u001b[0me\u001b[0m\u001b[1;33m\u001b[0m\u001b[1;33m\u001b[0m\u001b[0m\n\u001b[0m\u001b[0;32m   1147\u001b[0m             \u001b[1;32mif\u001b[0m \u001b[0misinstance\u001b[0m\u001b[1;33m(\u001b[0m\u001b[0me\u001b[0m\u001b[1;33m,\u001b[0m \u001b[0mqueue\u001b[0m\u001b[1;33m.\u001b[0m\u001b[0mEmpty\u001b[0m\u001b[1;33m)\u001b[0m\u001b[1;33m:\u001b[0m\u001b[1;33m\u001b[0m\u001b[1;33m\u001b[0m\u001b[0m\n\u001b[0;32m   1148\u001b[0m                 \u001b[1;32mreturn\u001b[0m \u001b[1;33m(\u001b[0m\u001b[1;32mFalse\u001b[0m\u001b[1;33m,\u001b[0m \u001b[1;32mNone\u001b[0m\u001b[1;33m)\u001b[0m\u001b[1;33m\u001b[0m\u001b[1;33m\u001b[0m\u001b[0m\n",
      "\u001b[1;31mRuntimeError\u001b[0m: DataLoader worker (pid(s) 1120, 19624, 7340, 15244, 19192, 11188, 10920, 17616) exited unexpectedly"
     ]
    }
   ],
   "source": [
    "num_epochs = 10 #How many itesm the entires training data is seen?\n",
    "l_rate = 0.01\n",
    "\n",
    "optimizer = torch.optim.SGD(model.parameters(), lr = l_rate)\n",
    "\n",
    "dataset =MyDataset(x,y)\n",
    "batch_size = 1\n",
    "shuffle = True \n",
    "num_workers = 8\n",
    "\n",
    "training_sample_generator = DataLoader(dataset, batch_size = batch_size, shuffle=shuffle, num_workers = num_workers)\n",
    "\n",
    "for epoch in range(num_epochs):\n",
    "    print('Epoch = %s' % epoch)\n",
    "    for batch_i, samples in enumerate (training_sample_generator):\n",
    "        predictions = model(samples['features'])\n",
    "        error = cost(predictions, samples['label'])\n",
    "        print('\\tBatch = %s, Error = %s' % (batch_i, error.item()))\n",
    "        optimiser.zero_grad()\n",
    "        error.backward()\n",
    "        optimiser.step()\n",
    "                     "
   ]
  },
  {
   "cell_type": "markdown",
   "id": "eab24763",
   "metadata": {},
   "source": [
    "# Lets see how well the model has learnt the data"
   ]
  },
  {
   "cell_type": "code",
   "execution_count": 84,
   "id": "a4130932",
   "metadata": {},
   "outputs": [
    {
     "name": "stdout",
     "output_type": "stream",
     "text": [
      "Design matrix shape:  torch.Size([1000, 2])\n",
      "y_for_plotting shape:  torch.Size([1000, 1])\n"
     ]
    }
   ],
   "source": [
    "x_for_plotting = np.linspace(0, 2*np.pi, 1000)\n",
    "design_matrix = torch.tensor(np.vstack([np.ones(x_for_plotting.shape) , x_for_plotting]).T, dtype=torch.float32)\n",
    "print('Design matrix shape: ', design_matrix.shape)\n",
    "\n",
    "y_for_plotting = model.forward(design_matrix)\n",
    "print('y_for_plotting shape: ', y_for_plotting.shape)\n"
   ]
  },
  {
   "cell_type": "code",
   "execution_count": 86,
   "id": "1eb3488f",
   "metadata": {},
   "outputs": [
    {
     "data": {
      "image/png": "[encoded data removed]",
      "text/plain": [
       "<Figure size 640x480 with 1 Axes>"
      ]
     },
     "metadata": {},
     "output_type": "display_data"
    }
   ],
   "source": [
    "plt.figure()\n",
    "plt.plot(x,y,'o')\n",
    "plt.plot(x_for_plotting, y_for_plotting.data.numpy() , 'r')\n",
    "plt.xlabel('x')\n",
    "plt.ylabel('y')\n",
    "plt.title('2D data( #data = %d)' %N)\n",
    "plt.show()"
   ]
  },
  {
   "cell_type": "markdown",
   "id": "dcddedcf",
   "metadata": {},
   "source": [
    "# Recommendation Systems"
   ]
  },
  {
   "cell_type": "code",
   "execution_count": 87,
   "id": "499c7230",
   "metadata": {},
   "outputs": [],
   "source": [
    "def user_cf(M, metric ='cosine'):\n",
    "    pred = np.copy(M)\n",
    "    n_users, n_items = M.shape\n",
    "    avg_ratings = np.nanmean(M, axis =1)\n",
    "    sim_users = sim_matrix(M, 'user', metric)\n",
    "    for i in range(n_users):\n",
    "        for j in range (n_items):\n",
    "            if np.isnan(M[i,j]):\n",
    "                pred[i,j] = avg_ratings[i] + np.nansum(sim_users[i]*(M[:j] - avg_ratings)) / sum(sim_users[i])\n",
    "    return pred"
   ]
  },
  {
   "cell_type": "code",
   "execution_count": 88,
   "id": "a7de88cf",
   "metadata": {},
   "outputs": [],
   "source": [
    "def item_cf (M, metric ='cosine'):\n",
    "    pred = np.copy(M)\n",
    "    n_users, n_items = M.shape\n",
    "    avg_ratings = np.nanmean(M, axis =0)\n",
    "    sim_items = sim_matrix(M, 'item', metric)\n",
    "    for i in range(n_users):\n",
    "        for j in range (n_items):\n",
    "            if np.isnan(M[i,j]):\n",
    "                pred[i,j] = avg_ratings[i] + np.nansum(sim_items[i]*(M[:j] - avg_ratings)) / sum(sim_items[i])\n",
    "    return pred"
   ]
  },
  {
   "cell_type": "markdown",
   "id": "4b91abd8",
   "metadata": {},
   "source": [
    "Compute the predictive accuracy of the above recommendations\n"
   ]
  },
  {
   "cell_type": "code",
   "execution_count": 89,
   "id": "37c424e0",
   "metadata": {},
   "outputs": [
    {
     "ename": "NameError",
     "evalue": "name 'evaluateRS' is not defined",
     "output_type": "error",
     "traceback": [
      "\u001b[1;31m---------------------------------------------------------------------------\u001b[0m",
      "\u001b[1;31mNameError\u001b[0m                                 Traceback (most recent call last)",
      "\u001b[1;32m~\\AppData\\Local\\Temp\\ipykernel_3708\\604655812.py\u001b[0m in \u001b[0;36m<module>\u001b[1;34m\u001b[0m\n\u001b[1;32m----> 1\u001b[1;33m \u001b[0mevaluateRS\u001b[0m\u001b[1;33m(\u001b[0m\u001b[0mM\u001b[0m\u001b[1;33m,\u001b[0m \u001b[0mM_result\u001b[0m\u001b[1;33m,\u001b[0m \u001b[1;34m'user_cf'\u001b[0m\u001b[1;33m,\u001b[0m \u001b[1;34m'cosine'\u001b[0m\u001b[1;33m)\u001b[0m\u001b[1;33m\u001b[0m\u001b[1;33m\u001b[0m\u001b[0m\n\u001b[0m\u001b[0;32m      2\u001b[0m \u001b[0mevaluateRS\u001b[0m\u001b[1;33m(\u001b[0m\u001b[0mM\u001b[0m\u001b[1;33m,\u001b[0m \u001b[0mM_result\u001b[0m\u001b[1;33m,\u001b[0m \u001b[1;34m'user_cf'\u001b[0m\u001b[1;33m,\u001b[0m \u001b[1;34m'correlation'\u001b[0m\u001b[1;33m)\u001b[0m\u001b[1;33m\u001b[0m\u001b[1;33m\u001b[0m\u001b[0m\n\u001b[0;32m      3\u001b[0m \u001b[0mevaluateRS\u001b[0m\u001b[1;33m(\u001b[0m\u001b[0mM\u001b[0m\u001b[1;33m,\u001b[0m \u001b[0mM_result\u001b[0m\u001b[1;33m,\u001b[0m \u001b[1;34m'item_cf'\u001b[0m\u001b[1;33m,\u001b[0m \u001b[1;34m'cosine'\u001b[0m\u001b[1;33m)\u001b[0m\u001b[1;33m\u001b[0m\u001b[1;33m\u001b[0m\u001b[0m\n\u001b[0;32m      4\u001b[0m \u001b[0mevaluateRS\u001b[0m\u001b[1;33m(\u001b[0m\u001b[0mM\u001b[0m\u001b[1;33m,\u001b[0m \u001b[0mM_result\u001b[0m\u001b[1;33m,\u001b[0m \u001b[1;34m'item_cf'\u001b[0m\u001b[1;33m,\u001b[0m \u001b[1;34m'correlation'\u001b[0m\u001b[1;33m)\u001b[0m\u001b[1;33m\u001b[0m\u001b[1;33m\u001b[0m\u001b[0m\n",
      "\u001b[1;31mNameError\u001b[0m: name 'evaluateRS' is not defined"
     ]
    }
   ],
   "source": [
    "evaluateRS(M, M_result, 'user_cf', 'cosine')\n",
    "evaluateRS(M, M_result, 'user_cf', 'correlation')\n",
    "evaluateRS(M, M_result, 'item_cf', 'cosine')\n",
    "evaluateRS(M, M_result, 'item_cf', 'correlation')"
   ]
  },
  {
   "cell_type": "markdown",
   "id": "45bd970a",
   "metadata": {},
   "source": [
    "# IV. Exerises\n"
   ]
  },
  {
   "cell_type": "markdown",
   "id": "9a0c6bb1",
   "metadata": {},
   "source": [
    "1. Clasification"
   ]
  },
  {
   "cell_type": "markdown",
   "id": "92168020",
   "metadata": {},
   "source": [
    " Load this dataset from scikit-learn  "
   ]
  },
  {
   "cell_type": "code",
   "execution_count": 7,
   "id": "f1ee437d",
   "metadata": {},
   "outputs": [
    {
     "data": {
      "text/plain": [
       "{'data': array([[5.1, 3.5, 1.4, 0.2],\n",
       "        [4.9, 3. , 1.4, 0.2],\n",
       "        [4.7, 3.2, 1.3, 0.2],\n",
       "        [4.6, 3.1, 1.5, 0.2],\n",
       "        [5. , 3.6, 1.4, 0.2],\n",
       "        [5.4, 3.9, 1.7, 0.4],\n",
       "        [4.6, 3.4, 1.4, 0.3],\n",
       "        [5. , 3.4, 1.5, 0.2],\n",
       "        [4.4, 2.9, 1.4, 0.2],\n",
       "        [4.9, 3.1, 1.5, 0.1],\n",
       "        [5.4, 3.7, 1.5, 0.2],\n",
       "        [4.8, 3.4, 1.6, 0.2],\n",
       "        [4.8, 3. , 1.4, 0.1],\n",
       "        [4.3, 3. , 1.1, 0.1],\n",
       "        [5.8, 4. , 1.2, 0.2],\n",
       "        [5.7, 4.4, 1.5, 0.4],\n",
       "        [5.4, 3.9, 1.3, 0.4],\n",
       "        [5.1, 3.5, 1.4, 0.3],\n",
       "        [5.7, 3.8, 1.7, 0.3],\n",
       "        [5.1, 3.8, 1.5, 0.3],\n",
       "        [5.4, 3.4, 1.7, 0.2],\n",
       "        [5.1, 3.7, 1.5, 0.4],\n",
       "        [4.6, 3.6, 1. , 0.2],\n",
       "        [5.1, 3.3, 1.7, 0.5],\n",
       "        [4.8, 3.4, 1.9, 0.2],\n",
       "        [5. , 3. , 1.6, 0.2],\n",
       "        [5. , 3.4, 1.6, 0.4],\n",
       "        [5.2, 3.5, 1.5, 0.2],\n",
       "        [5.2, 3.4, 1.4, 0.2],\n",
       "        [4.7, 3.2, 1.6, 0.2],\n",
       "        [4.8, 3.1, 1.6, 0.2],\n",
       "        [5.4, 3.4, 1.5, 0.4],\n",
       "        [5.2, 4.1, 1.5, 0.1],\n",
       "        [5.5, 4.2, 1.4, 0.2],\n",
       "        [4.9, 3.1, 1.5, 0.2],\n",
       "        [5. , 3.2, 1.2, 0.2],\n",
       "        [5.5, 3.5, 1.3, 0.2],\n",
       "        [4.9, 3.6, 1.4, 0.1],\n",
       "        [4.4, 3. , 1.3, 0.2],\n",
       "        [5.1, 3.4, 1.5, 0.2],\n",
       "        [5. , 3.5, 1.3, 0.3],\n",
       "        [4.5, 2.3, 1.3, 0.3],\n",
       "        [4.4, 3.2, 1.3, 0.2],\n",
       "        [5. , 3.5, 1.6, 0.6],\n",
       "        [5.1, 3.8, 1.9, 0.4],\n",
       "        [4.8, 3. , 1.4, 0.3],\n",
       "        [5.1, 3.8, 1.6, 0.2],\n",
       "        [4.6, 3.2, 1.4, 0.2],\n",
       "        [5.3, 3.7, 1.5, 0.2],\n",
       "        [5. , 3.3, 1.4, 0.2],\n",
       "        [7. , 3.2, 4.7, 1.4],\n",
       "        [6.4, 3.2, 4.5, 1.5],\n",
       "        [6.9, 3.1, 4.9, 1.5],\n",
       "        [5.5, 2.3, 4. , 1.3],\n",
       "        [6.5, 2.8, 4.6, 1.5],\n",
       "        [5.7, 2.8, 4.5, 1.3],\n",
       "        [6.3, 3.3, 4.7, 1.6],\n",
       "        [4.9, 2.4, 3.3, 1. ],\n",
       "        [6.6, 2.9, 4.6, 1.3],\n",
       "        [5.2, 2.7, 3.9, 1.4],\n",
       "        [5. , 2. , 3.5, 1. ],\n",
       "        [5.9, 3. , 4.2, 1.5],\n",
       "        [6. , 2.2, 4. , 1. ],\n",
       "        [6.1, 2.9, 4.7, 1.4],\n",
       "        [5.6, 2.9, 3.6, 1.3],\n",
       "        [6.7, 3.1, 4.4, 1.4],\n",
       "        [5.6, 3. , 4.5, 1.5],\n",
       "        [5.8, 2.7, 4.1, 1. ],\n",
       "        [6.2, 2.2, 4.5, 1.5],\n",
       "        [5.6, 2.5, 3.9, 1.1],\n",
       "        [5.9, 3.2, 4.8, 1.8],\n",
       "        [6.1, 2.8, 4. , 1.3],\n",
       "        [6.3, 2.5, 4.9, 1.5],\n",
       "        [6.1, 2.8, 4.7, 1.2],\n",
       "        [6.4, 2.9, 4.3, 1.3],\n",
       "        [6.6, 3. , 4.4, 1.4],\n",
       "        [6.8, 2.8, 4.8, 1.4],\n",
       "        [6.7, 3. , 5. , 1.7],\n",
       "        [6. , 2.9, 4.5, 1.5],\n",
       "        [5.7, 2.6, 3.5, 1. ],\n",
       "        [5.5, 2.4, 3.8, 1.1],\n",
       "        [5.5, 2.4, 3.7, 1. ],\n",
       "        [5.8, 2.7, 3.9, 1.2],\n",
       "        [6. , 2.7, 5.1, 1.6],\n",
       "        [5.4, 3. , 4.5, 1.5],\n",
       "        [6. , 3.4, 4.5, 1.6],\n",
       "        [6.7, 3.1, 4.7, 1.5],\n",
       "        [6.3, 2.3, 4.4, 1.3],\n",
       "        [5.6, 3. , 4.1, 1.3],\n",
       "        [5.5, 2.5, 4. , 1.3],\n",
       "        [5.5, 2.6, 4.4, 1.2],\n",
       "        [6.1, 3. , 4.6, 1.4],\n",
       "        [5.8, 2.6, 4. , 1.2],\n",
       "        [5. , 2.3, 3.3, 1. ],\n",
       "        [5.6, 2.7, 4.2, 1.3],\n",
       "        [5.7, 3. , 4.2, 1.2],\n",
       "        [5.7, 2.9, 4.2, 1.3],\n",
       "        [6.2, 2.9, 4.3, 1.3],\n",
       "        [5.1, 2.5, 3. , 1.1],\n",
       "        [5.7, 2.8, 4.1, 1.3],\n",
       "        [6.3, 3.3, 6. , 2.5],\n",
       "        [5.8, 2.7, 5.1, 1.9],\n",
       "        [7.1, 3. , 5.9, 2.1],\n",
       "        [6.3, 2.9, 5.6, 1.8],\n",
       "        [6.5, 3. , 5.8, 2.2],\n",
       "        [7.6, 3. , 6.6, 2.1],\n",
       "        [4.9, 2.5, 4.5, 1.7],\n",
       "        [7.3, 2.9, 6.3, 1.8],\n",
       "        [6.7, 2.5, 5.8, 1.8],\n",
       "        [7.2, 3.6, 6.1, 2.5],\n",
       "        [6.5, 3.2, 5.1, 2. ],\n",
       "        [6.4, 2.7, 5.3, 1.9],\n",
       "        [6.8, 3. , 5.5, 2.1],\n",
       "        [5.7, 2.5, 5. , 2. ],\n",
       "        [5.8, 2.8, 5.1, 2.4],\n",
       "        [6.4, 3.2, 5.3, 2.3],\n",
       "        [6.5, 3. , 5.5, 1.8],\n",
       "        [7.7, 3.8, 6.7, 2.2],\n",
       "        [7.7, 2.6, 6.9, 2.3],\n",
       "        [6. , 2.2, 5. , 1.5],\n",
       "        [6.9, 3.2, 5.7, 2.3],\n",
       "        [5.6, 2.8, 4.9, 2. ],\n",
       "        [7.7, 2.8, 6.7, 2. ],\n",
       "        [6.3, 2.7, 4.9, 1.8],\n",
       "        [6.7, 3.3, 5.7, 2.1],\n",
       "        [7.2, 3.2, 6. , 1.8],\n",
       "        [6.2, 2.8, 4.8, 1.8],\n",
       "        [6.1, 3. , 4.9, 1.8],\n",
       "        [6.4, 2.8, 5.6, 2.1],\n",
       "        [7.2, 3. , 5.8, 1.6],\n",
       "        [7.4, 2.8, 6.1, 1.9],\n",
       "        [7.9, 3.8, 6.4, 2. ],\n",
       "        [6.4, 2.8, 5.6, 2.2],\n",
       "        [6.3, 2.8, 5.1, 1.5],\n",
       "        [6.1, 2.6, 5.6, 1.4],\n",
       "        [7.7, 3. , 6.1, 2.3],\n",
       "        [6.3, 3.4, 5.6, 2.4],\n",
       "        [6.4, 3.1, 5.5, 1.8],\n",
       "        [6. , 3. , 4.8, 1.8],\n",
       "        [6.9, 3.1, 5.4, 2.1],\n",
       "        [6.7, 3.1, 5.6, 2.4],\n",
       "        [6.9, 3.1, 5.1, 2.3],\n",
       "        [5.8, 2.7, 5.1, 1.9],\n",
       "        [6.8, 3.2, 5.9, 2.3],\n",
       "        [6.7, 3.3, 5.7, 2.5],\n",
       "        [6.7, 3. , 5.2, 2.3],\n",
       "        [6.3, 2.5, 5. , 1.9],\n",
       "        [6.5, 3. , 5.2, 2. ],\n",
       "        [6.2, 3.4, 5.4, 2.3],\n",
       "        [5.9, 3. , 5.1, 1.8]]),\n",
       " 'target': array([0, 0, 0, 0, 0, 0, 0, 0, 0, 0, 0, 0, 0, 0, 0, 0, 0, 0, 0, 0, 0, 0,\n",
       "        0, 0, 0, 0, 0, 0, 0, 0, 0, 0, 0, 0, 0, 0, 0, 0, 0, 0, 0, 0, 0, 0,\n",
       "        0, 0, 0, 0, 0, 0, 1, 1, 1, 1, 1, 1, 1, 1, 1, 1, 1, 1, 1, 1, 1, 1,\n",
       "        1, 1, 1, 1, 1, 1, 1, 1, 1, 1, 1, 1, 1, 1, 1, 1, 1, 1, 1, 1, 1, 1,\n",
       "        1, 1, 1, 1, 1, 1, 1, 1, 1, 1, 1, 1, 2, 2, 2, 2, 2, 2, 2, 2, 2, 2,\n",
       "        2, 2, 2, 2, 2, 2, 2, 2, 2, 2, 2, 2, 2, 2, 2, 2, 2, 2, 2, 2, 2, 2,\n",
       "        2, 2, 2, 2, 2, 2, 2, 2, 2, 2, 2, 2, 2, 2, 2, 2, 2, 2]),\n",
       " 'frame': None,\n",
       " 'target_names': array(['setosa', 'versicolor', 'virginica'], dtype='<U10'),\n",
       " 'DESCR': '.. _iris_dataset:\\n\\nIris plants dataset\\n--------------------\\n\\n**Data Set Characteristics:**\\n\\n    :Number of Instances: 150 (50 in each of three classes)\\n    :Number of Attributes: 4 numeric, predictive attributes and the class\\n    :Attribute Information:\\n        - sepal length in cm\\n        - sepal width in cm\\n        - petal length in cm\\n        - petal width in cm\\n        - class:\\n                - Iris-Setosa\\n                - Iris-Versicolour\\n                - Iris-Virginica\\n                \\n    :Summary Statistics:\\n\\n    ============== ==== ==== ======= ===== ====================\\n                    Min  Max   Mean    SD   Class Correlation\\n    ============== ==== ==== ======= ===== ====================\\n    sepal length:   4.3  7.9   5.84   0.83    0.7826\\n    sepal width:    2.0  4.4   3.05   0.43   -0.4194\\n    petal length:   1.0  6.9   3.76   1.76    0.9490  (high!)\\n    petal width:    0.1  2.5   1.20   0.76    0.9565  (high!)\\n    ============== ==== ==== ======= ===== ====================\\n\\n    :Missing Attribute Values: None\\n    :Class Distribution: 33.3% for each of 3 classes.\\n    :Creator: R.A. Fisher\\n    :Donor: Michael Marshall (MARSHALL%PLU@io.arc.nasa.gov)\\n    :Date: July, 1988\\n\\nThe famous Iris database, first used by Sir R.A. Fisher. The dataset is taken\\nfrom Fisher\\'s paper. Note that it\\'s the same as in R, but not as in the UCI\\nMachine Learning Repository, which has two wrong data points.\\n\\nThis is perhaps the best known database to be found in the\\npattern recognition literature.  Fisher\\'s paper is a classic in the field and\\nis referenced frequently to this day.  (See Duda & Hart, for example.)  The\\ndata set contains 3 classes of 50 instances each, where each class refers to a\\ntype of iris plant.  One class is linearly separable from the other 2; the\\nlatter are NOT linearly separable from each other.\\n\\n.. topic:: References\\n\\n   - Fisher, R.A. \"The use of multiple measurements in taxonomic problems\"\\n     Annual Eugenics, 7, Part II, 179-188 (1936); also in \"Contributions to\\n     Mathematical Statistics\" (John Wiley, NY, 1950).\\n   - Duda, R.O., & Hart, P.E. (1973) Pattern Classification and Scene Analysis.\\n     (Q327.D83) John Wiley & Sons.  ISBN 0-471-22361-1.  See page 218.\\n   - Dasarathy, B.V. (1980) \"Nosing Around the Neighborhood: A New System\\n     Structure and Classification Rule for Recognition in Partially Exposed\\n     Environments\".  IEEE Transactions on Pattern Analysis and Machine\\n     Intelligence, Vol. PAMI-2, No. 1, 67-71.\\n   - Gates, G.W. (1972) \"The Reduced Nearest Neighbor Rule\".  IEEE Transactions\\n     on Information Theory, May 1972, 431-433.\\n   - See also: 1988 MLC Proceedings, 54-64.  Cheeseman et al\"s AUTOCLASS II\\n     conceptual clustering system finds 3 classes in the data.\\n   - Many, many more ...',\n",
       " 'feature_names': ['sepal length (cm)',\n",
       "  'sepal width (cm)',\n",
       "  'petal length (cm)',\n",
       "  'petal width (cm)'],\n",
       " 'filename': 'iris.csv',\n",
       " 'data_module': 'sklearn.datasets.data'}"
      ]
     },
     "execution_count": 7,
     "metadata": {},
     "output_type": "execute_result"
    }
   ],
   "source": [
    "from sklearn.datasets import load_iris\n",
    "\n",
    "iris = load_iris()\n",
    "iris"
   ]
  },
  {
   "cell_type": "code",
   "execution_count": 8,
   "id": "432b783f",
   "metadata": {},
   "outputs": [],
   "source": [
    "from sklearn.model_selection import train_test_split"
   ]
  },
  {
   "cell_type": "code",
   "execution_count": 9,
   "id": "9ee6cab5",
   "metadata": {},
   "outputs": [],
   "source": [
    "X = iris.data\n",
    "y = iris.target"
   ]
  },
  {
   "cell_type": "code",
   "execution_count": 10,
   "id": "b8d669d0",
   "metadata": {},
   "outputs": [],
   "source": [
    "# Split data into training and testing sets\n",
    "X_train, X_test, y_train, y_test = train_test_split(X, y, test_size=0.2, random_state=42)"
   ]
  },
  {
   "cell_type": "code",
   "execution_count": 11,
   "id": "bed0dded",
   "metadata": {},
   "outputs": [
    {
     "data": {
      "text/plain": [
       "KNeighborsClassifier()"
      ]
     },
     "execution_count": 11,
     "metadata": {},
     "output_type": "execute_result"
    }
   ],
   "source": [
    "from sklearn.neighbors import KNeighborsClassifier\n",
    "\n",
    "k = 5\n",
    "knn = KNeighborsClassifier(n_neighbors=k)\n",
    "knn.fit(X_train, y_train)"
   ]
  },
  {
   "cell_type": "code",
   "execution_count": 12,
   "id": "1999be96",
   "metadata": {},
   "outputs": [],
   "source": [
    "from sklearn.model_selection import train_test_split"
   ]
  },
  {
   "cell_type": "code",
   "execution_count": 13,
   "id": "87beac62",
   "metadata": {},
   "outputs": [],
   "source": [
    "X = iris.data\n",
    "y = iris.target"
   ]
  },
  {
   "cell_type": "code",
   "execution_count": 14,
   "id": "cdb21ecc",
   "metadata": {},
   "outputs": [],
   "source": [
    "# Split data into training and testing sets\n",
    "X_train, X_test, y_train, y_test = train_test_split(X, y, test_size=0.2, random_state=42)"
   ]
  },
  {
   "cell_type": "code",
   "execution_count": 15,
   "id": "0647cf6a",
   "metadata": {},
   "outputs": [
    {
     "data": {
      "text/plain": [
       "KNeighborsClassifier()"
      ]
     },
     "execution_count": 15,
     "metadata": {},
     "output_type": "execute_result"
    }
   ],
   "source": [
    "from sklearn.neighbors import KNeighborsClassifier\n",
    "\n",
    "k = 5\n",
    "knn = KNeighborsClassifier(n_neighbors=k)\n",
    "knn.fit(X_train, y_train)"
   ]
  },
  {
   "cell_type": "code",
   "execution_count": 16,
   "id": "dc18aa80",
   "metadata": {},
   "outputs": [],
   "source": [
    "from sklearn.metrics import accuracy_score"
   ]
  },
  {
   "cell_type": "code",
   "execution_count": 17,
   "id": "009585e2",
   "metadata": {},
   "outputs": [
    {
     "name": "stderr",
     "output_type": "stream",
     "text": [
      "E:\\Anaconda\\lib\\site-packages\\sklearn\\neighbors\\_classification.py:228: FutureWarning: Unlike other reduction functions (e.g. `skew`, `kurtosis`), the default behavior of `mode` typically preserves the axis it acts along. In SciPy 1.11.0, this behavior will change: the default value of `keepdims` will become False, the `axis` over which the statistic is taken will be eliminated, and the value None will no longer be accepted. Set `keepdims` to True or False to avoid this warning.\n",
      "  mode, _ = stats.mode(_y[neigh_ind, k], axis=1)\n",
      "E:\\Anaconda\\lib\\site-packages\\sklearn\\neighbors\\_classification.py:228: FutureWarning: Unlike other reduction functions (e.g. `skew`, `kurtosis`), the default behavior of `mode` typically preserves the axis it acts along. In SciPy 1.11.0, this behavior will change: the default value of `keepdims` will become False, the `axis` over which the statistic is taken will be eliminated, and the value None will no longer be accepted. Set `keepdims` to True or False to avoid this warning.\n",
      "  mode, _ = stats.mode(_y[neigh_ind, k], axis=1)\n",
      "E:\\Anaconda\\lib\\site-packages\\sklearn\\neighbors\\_classification.py:228: FutureWarning: Unlike other reduction functions (e.g. `skew`, `kurtosis`), the default behavior of `mode` typically preserves the axis it acts along. In SciPy 1.11.0, this behavior will change: the default value of `keepdims` will become False, the `axis` over which the statistic is taken will be eliminated, and the value None will no longer be accepted. Set `keepdims` to True or False to avoid this warning.\n",
      "  mode, _ = stats.mode(_y[neigh_ind, k], axis=1)\n",
      "E:\\Anaconda\\lib\\site-packages\\sklearn\\neighbors\\_classification.py:228: FutureWarning: Unlike other reduction functions (e.g. `skew`, `kurtosis`), the default behavior of `mode` typically preserves the axis it acts along. In SciPy 1.11.0, this behavior will change: the default value of `keepdims` will become False, the `axis` over which the statistic is taken will be eliminated, and the value None will no longer be accepted. Set `keepdims` to True or False to avoid this warning.\n",
      "  mode, _ = stats.mode(_y[neigh_ind, k], axis=1)\n",
      "E:\\Anaconda\\lib\\site-packages\\sklearn\\neighbors\\_classification.py:228: FutureWarning: Unlike other reduction functions (e.g. `skew`, `kurtosis`), the default behavior of `mode` typically preserves the axis it acts along. In SciPy 1.11.0, this behavior will change: the default value of `keepdims` will become False, the `axis` over which the statistic is taken will be eliminated, and the value None will no longer be accepted. Set `keepdims` to True or False to avoid this warning.\n",
      "  mode, _ = stats.mode(_y[neigh_ind, k], axis=1)\n"
     ]
    }
   ],
   "source": [
    "# Classify using kNN with different values of k\n",
    "k_values = [1, 3, 5, 7, 9]\n",
    "knn_accuracies = []\n",
    "for k in k_values:\n",
    "    knn = KNeighborsClassifier(n_neighbors=k)\n",
    "    knn.fit(X_train, y_train)\n",
    "    y_pred = knn.predict(X_test)\n",
    "    accuracy = accuracy_score(y_test, y_pred)\n",
    "    knn_accuracies.append(accuracy)\n"
   ]
  },
  {
   "cell_type": "code",
   "execution_count": 18,
   "id": "e70d5774",
   "metadata": {},
   "outputs": [],
   "source": [
    "from sklearn.neural_network import MLPClassifier"
   ]
  },
  {
   "cell_type": "code",
   "execution_count": 19,
   "id": "7a0ea96c",
   "metadata": {},
   "outputs": [
    {
     "name": "stderr",
     "output_type": "stream",
     "text": [
      "E:\\Anaconda\\lib\\site-packages\\sklearn\\neural_network\\_multilayer_perceptron.py:692: ConvergenceWarning: Stochastic Optimizer: Maximum iterations (1000) reached and the optimization hasn't converged yet.\n",
      "  warnings.warn(\n"
     ]
    }
   ],
   "source": [
    "# Classify using a simple neural network\n",
    "nn = MLPClassifier(hidden_layer_sizes=(10,), max_iter=1000, random_state=42)\n",
    "nn.fit(X_train, y_train)\n",
    "y_pred = nn.predict(X_test)\n",
    "nn_accuracy = accuracy_score(y_test, y_pred)"
   ]
  },
  {
   "cell_type": "code",
   "execution_count": 21,
   "id": "84ca2ea3",
   "metadata": {},
   "outputs": [],
   "source": [
    "import matplotlib.pyplot as plt"
   ]
  },
  {
   "cell_type": "code",
   "execution_count": 22,
   "id": "88f0fb4c",
   "metadata": {},
   "outputs": [
    {
     "data": {
      "image/png": "[encoded data removed]",
      "text/plain": [
       "<Figure size 640x480 with 1 Axes>"
      ]
     },
     "metadata": {},
     "output_type": "display_data"
    }
   ],
   "source": [
    "# Plot the results\n",
    "plt.plot(k_values, knn_accuracies, label='kNN')\n",
    "plt.plot([0, len(k_values)], [nn_accuracy, nn_accuracy], label='NN')\n",
    "plt.xlabel('k')\n",
    "plt.ylabel('Accuracy')\n",
    "plt.title('Classification Accuracy on Iris Dataset')\n",
    "plt.legend()\n",
    "plt.show()"
   ]
  },
  {
   "cell_type": "markdown",
   "id": "037063d5",
   "metadata": {},
   "source": [
    "# 2. Recommendation Systems "
   ]
  },
  {
   "cell_type": "markdown",
   "id": "04356da4",
   "metadata": {},
   "source": [
    "a. Content-Based Recommendation Model"
   ]
  },
  {
   "cell_type": "code",
   "execution_count": 30,
   "id": "13808132",
   "metadata": {},
   "outputs": [],
   "source": [
    "#Import numpy and pandas\n",
    "import numpy as np\n",
    "import pandas as pd\n",
    "import seaborn as sns\n",
    "import matplotlib.pyplot as plt\n",
    "#Read the CSV file into a DataFrame: df\n"
   ]
  },
  {
   "cell_type": "code",
   "execution_count": 25,
   "id": "e1314682",
   "metadata": {},
   "outputs": [],
   "source": [
    "df2 = pd.read_csv('users.csv')"
   ]
  },
  {
   "cell_type": "code",
   "execution_count": 27,
   "id": "645031c3",
   "metadata": {},
   "outputs": [],
   "source": [
    "df1 = pd.read_csv('ratings.csv')"
   ]
  },
  {
   "cell_type": "code",
   "execution_count": 29,
   "id": "1f6138e1",
   "metadata": {},
   "outputs": [],
   "source": [
    "df0 = pd.read_csv('movies.csv')"
   ]
  },
  {
   "cell_type": "code",
   "execution_count": 31,
   "id": "918a077c",
   "metadata": {},
   "outputs": [
    {
     "data": {
      "text/html": [
       "<div>\n",
       "<style scoped>\n",
       "    .dataframe tbody tr th:only-of-type {\n",
       "        vertical-align: middle;\n",
       "    }\n",
       "\n",
       "    .dataframe tbody tr th {\n",
       "        vertical-align: top;\n",
       "    }\n",
       "\n",
       "    .dataframe thead th {\n",
       "        text-align: right;\n",
       "    }\n",
       "</style>\n",
       "<table border=\"1\" class=\"dataframe\">\n",
       "  <thead>\n",
       "    <tr style=\"text-align: right;\">\n",
       "      <th></th>\n",
       "      <th>user_id</th>\n",
       "      <th>gender</th>\n",
       "      <th>age</th>\n",
       "      <th>occupation</th>\n",
       "      <th>zipcode</th>\n",
       "      <th>age_desc</th>\n",
       "      <th>occ_desc</th>\n",
       "    </tr>\n",
       "  </thead>\n",
       "  <tbody>\n",
       "    <tr>\n",
       "      <th>0</th>\n",
       "      <td>1</td>\n",
       "      <td>F</td>\n",
       "      <td>1</td>\n",
       "      <td>10</td>\n",
       "      <td>48067</td>\n",
       "      <td>Under 18</td>\n",
       "      <td>K-12 student</td>\n",
       "    </tr>\n",
       "    <tr>\n",
       "      <th>1</th>\n",
       "      <td>2</td>\n",
       "      <td>M</td>\n",
       "      <td>56</td>\n",
       "      <td>16</td>\n",
       "      <td>70072</td>\n",
       "      <td>56+</td>\n",
       "      <td>self-employed</td>\n",
       "    </tr>\n",
       "    <tr>\n",
       "      <th>2</th>\n",
       "      <td>3</td>\n",
       "      <td>M</td>\n",
       "      <td>25</td>\n",
       "      <td>15</td>\n",
       "      <td>55117</td>\n",
       "      <td>25-34</td>\n",
       "      <td>scientist</td>\n",
       "    </tr>\n",
       "    <tr>\n",
       "      <th>3</th>\n",
       "      <td>4</td>\n",
       "      <td>M</td>\n",
       "      <td>45</td>\n",
       "      <td>7</td>\n",
       "      <td>2460</td>\n",
       "      <td>45-49</td>\n",
       "      <td>executive/managerial</td>\n",
       "    </tr>\n",
       "    <tr>\n",
       "      <th>4</th>\n",
       "      <td>5</td>\n",
       "      <td>M</td>\n",
       "      <td>25</td>\n",
       "      <td>20</td>\n",
       "      <td>55455</td>\n",
       "      <td>25-34</td>\n",
       "      <td>writer</td>\n",
       "    </tr>\n",
       "    <tr>\n",
       "      <th>...</th>\n",
       "      <td>...</td>\n",
       "      <td>...</td>\n",
       "      <td>...</td>\n",
       "      <td>...</td>\n",
       "      <td>...</td>\n",
       "      <td>...</td>\n",
       "      <td>...</td>\n",
       "    </tr>\n",
       "    <tr>\n",
       "      <th>95</th>\n",
       "      <td>96</td>\n",
       "      <td>F</td>\n",
       "      <td>25</td>\n",
       "      <td>16</td>\n",
       "      <td>78028</td>\n",
       "      <td>25-34</td>\n",
       "      <td>self-employed</td>\n",
       "    </tr>\n",
       "    <tr>\n",
       "      <th>96</th>\n",
       "      <td>97</td>\n",
       "      <td>F</td>\n",
       "      <td>35</td>\n",
       "      <td>3</td>\n",
       "      <td>66210</td>\n",
       "      <td>35-44</td>\n",
       "      <td>clerical/admin</td>\n",
       "    </tr>\n",
       "    <tr>\n",
       "      <th>97</th>\n",
       "      <td>98</td>\n",
       "      <td>F</td>\n",
       "      <td>35</td>\n",
       "      <td>7</td>\n",
       "      <td>33547</td>\n",
       "      <td>35-44</td>\n",
       "      <td>executive/managerial</td>\n",
       "    </tr>\n",
       "    <tr>\n",
       "      <th>98</th>\n",
       "      <td>99</td>\n",
       "      <td>F</td>\n",
       "      <td>1</td>\n",
       "      <td>10</td>\n",
       "      <td>19390</td>\n",
       "      <td>Under 18</td>\n",
       "      <td>K-12 student</td>\n",
       "    </tr>\n",
       "    <tr>\n",
       "      <th>99</th>\n",
       "      <td>100</td>\n",
       "      <td>M</td>\n",
       "      <td>35</td>\n",
       "      <td>17</td>\n",
       "      <td>95401</td>\n",
       "      <td>35-44</td>\n",
       "      <td>technician/engineer</td>\n",
       "    </tr>\n",
       "  </tbody>\n",
       "</table>\n",
       "<p>100 rows × 7 columns</p>\n",
       "</div>"
      ],
      "text/plain": [
       "    user_id gender  age  occupation  zipcode  age_desc              occ_desc\n",
       "0         1      F    1          10    48067  Under 18          K-12 student\n",
       "1         2      M   56          16    70072       56+         self-employed\n",
       "2         3      M   25          15    55117     25-34             scientist\n",
       "3         4      M   45           7     2460     45-49  executive/managerial\n",
       "4         5      M   25          20    55455     25-34                writer\n",
       "..      ...    ...  ...         ...      ...       ...                   ...\n",
       "95       96      F   25          16    78028     25-34         self-employed\n",
       "96       97      F   35           3    66210     35-44        clerical/admin\n",
       "97       98      F   35           7    33547     35-44  executive/managerial\n",
       "98       99      F    1          10    19390  Under 18          K-12 student\n",
       "99      100      M   35          17    95401     35-44   technician/engineer\n",
       "\n",
       "[100 rows x 7 columns]"
      ]
     },
     "execution_count": 31,
     "metadata": {},
     "output_type": "execute_result"
    }
   ],
   "source": [
    "df2"
   ]
  },
  {
   "cell_type": "code",
   "execution_count": 32,
   "id": "ac86dff4",
   "metadata": {},
   "outputs": [
    {
     "data": {
      "text/html": [
       "<div>\n",
       "<style scoped>\n",
       "    .dataframe tbody tr th:only-of-type {\n",
       "        vertical-align: middle;\n",
       "    }\n",
       "\n",
       "    .dataframe tbody tr th {\n",
       "        vertical-align: top;\n",
       "    }\n",
       "\n",
       "    .dataframe thead th {\n",
       "        text-align: right;\n",
       "    }\n",
       "</style>\n",
       "<table border=\"1\" class=\"dataframe\">\n",
       "  <thead>\n",
       "    <tr style=\"text-align: right;\">\n",
       "      <th></th>\n",
       "      <th>user_id</th>\n",
       "      <th>movie_id</th>\n",
       "      <th>rating</th>\n",
       "    </tr>\n",
       "  </thead>\n",
       "  <tbody>\n",
       "    <tr>\n",
       "      <th>0</th>\n",
       "      <td>1</td>\n",
       "      <td>1</td>\n",
       "      <td>3</td>\n",
       "    </tr>\n",
       "    <tr>\n",
       "      <th>1</th>\n",
       "      <td>1</td>\n",
       "      <td>3</td>\n",
       "      <td>5</td>\n",
       "    </tr>\n",
       "    <tr>\n",
       "      <th>2</th>\n",
       "      <td>1</td>\n",
       "      <td>4</td>\n",
       "      <td>4</td>\n",
       "    </tr>\n",
       "    <tr>\n",
       "      <th>3</th>\n",
       "      <td>1</td>\n",
       "      <td>5</td>\n",
       "      <td>3</td>\n",
       "    </tr>\n",
       "    <tr>\n",
       "      <th>4</th>\n",
       "      <td>1</td>\n",
       "      <td>6</td>\n",
       "      <td>3</td>\n",
       "    </tr>\n",
       "    <tr>\n",
       "      <th>...</th>\n",
       "      <td>...</td>\n",
       "      <td>...</td>\n",
       "      <td>...</td>\n",
       "    </tr>\n",
       "    <tr>\n",
       "      <th>7507</th>\n",
       "      <td>100</td>\n",
       "      <td>96</td>\n",
       "      <td>4</td>\n",
       "    </tr>\n",
       "    <tr>\n",
       "      <th>7508</th>\n",
       "      <td>100</td>\n",
       "      <td>97</td>\n",
       "      <td>4</td>\n",
       "    </tr>\n",
       "    <tr>\n",
       "      <th>7509</th>\n",
       "      <td>100</td>\n",
       "      <td>98</td>\n",
       "      <td>5</td>\n",
       "    </tr>\n",
       "    <tr>\n",
       "      <th>7510</th>\n",
       "      <td>100</td>\n",
       "      <td>99</td>\n",
       "      <td>5</td>\n",
       "    </tr>\n",
       "    <tr>\n",
       "      <th>7511</th>\n",
       "      <td>100</td>\n",
       "      <td>100</td>\n",
       "      <td>5</td>\n",
       "    </tr>\n",
       "  </tbody>\n",
       "</table>\n",
       "<p>7512 rows × 3 columns</p>\n",
       "</div>"
      ],
      "text/plain": [
       "      user_id  movie_id  rating\n",
       "0           1         1       3\n",
       "1           1         3       5\n",
       "2           1         4       4\n",
       "3           1         5       3\n",
       "4           1         6       3\n",
       "...       ...       ...     ...\n",
       "7507      100        96       4\n",
       "7508      100        97       4\n",
       "7509      100        98       5\n",
       "7510      100        99       5\n",
       "7511      100       100       5\n",
       "\n",
       "[7512 rows x 3 columns]"
      ]
     },
     "execution_count": 32,
     "metadata": {},
     "output_type": "execute_result"
    }
   ],
   "source": [
    "df1"
   ]
  },
  {
   "cell_type": "code",
   "execution_count": 33,
   "id": "69219b06",
   "metadata": {},
   "outputs": [
    {
     "data": {
      "text/html": [
       "<div>\n",
       "<style scoped>\n",
       "    .dataframe tbody tr th:only-of-type {\n",
       "        vertical-align: middle;\n",
       "    }\n",
       "\n",
       "    .dataframe tbody tr th {\n",
       "        vertical-align: top;\n",
       "    }\n",
       "\n",
       "    .dataframe thead th {\n",
       "        text-align: right;\n",
       "    }\n",
       "</style>\n",
       "<table border=\"1\" class=\"dataframe\">\n",
       "  <thead>\n",
       "    <tr style=\"text-align: right;\">\n",
       "      <th></th>\n",
       "      <th>movie_id</th>\n",
       "      <th>title</th>\n",
       "      <th>genres</th>\n",
       "    </tr>\n",
       "  </thead>\n",
       "  <tbody>\n",
       "    <tr>\n",
       "      <th>0</th>\n",
       "      <td>1</td>\n",
       "      <td>Toy Story (1995)</td>\n",
       "      <td>Animation|Children's|Comedy</td>\n",
       "    </tr>\n",
       "    <tr>\n",
       "      <th>1</th>\n",
       "      <td>2</td>\n",
       "      <td>Jumanji (1995)</td>\n",
       "      <td>Adventure|Children's|Fantasy</td>\n",
       "    </tr>\n",
       "    <tr>\n",
       "      <th>2</th>\n",
       "      <td>3</td>\n",
       "      <td>Grumpier Old Men (1995)</td>\n",
       "      <td>Comedy|Romance</td>\n",
       "    </tr>\n",
       "    <tr>\n",
       "      <th>3</th>\n",
       "      <td>4</td>\n",
       "      <td>Waiting to Exhale (1995)</td>\n",
       "      <td>Comedy|Drama</td>\n",
       "    </tr>\n",
       "    <tr>\n",
       "      <th>4</th>\n",
       "      <td>5</td>\n",
       "      <td>Father of the Bride Part II (1995)</td>\n",
       "      <td>Comedy</td>\n",
       "    </tr>\n",
       "    <tr>\n",
       "      <th>...</th>\n",
       "      <td>...</td>\n",
       "      <td>...</td>\n",
       "      <td>...</td>\n",
       "    </tr>\n",
       "    <tr>\n",
       "      <th>95</th>\n",
       "      <td>96</td>\n",
       "      <td>In the Bleak Midwinter (1995)</td>\n",
       "      <td>Comedy</td>\n",
       "    </tr>\n",
       "    <tr>\n",
       "      <th>96</th>\n",
       "      <td>97</td>\n",
       "      <td>Hate (Haine</td>\n",
       "      <td>NaN</td>\n",
       "    </tr>\n",
       "    <tr>\n",
       "      <th>97</th>\n",
       "      <td>98</td>\n",
       "      <td>Shopping (1994)</td>\n",
       "      <td>Action|Thriller</td>\n",
       "    </tr>\n",
       "    <tr>\n",
       "      <th>98</th>\n",
       "      <td>99</td>\n",
       "      <td>Heidi Fleiss: Hollywood Madam (1995)</td>\n",
       "      <td>Documentary</td>\n",
       "    </tr>\n",
       "    <tr>\n",
       "      <th>99</th>\n",
       "      <td>100</td>\n",
       "      <td>City Hall (1996)</td>\n",
       "      <td>Drama|Thriller</td>\n",
       "    </tr>\n",
       "  </tbody>\n",
       "</table>\n",
       "<p>100 rows × 3 columns</p>\n",
       "</div>"
      ],
      "text/plain": [
       "    movie_id                                 title  \\\n",
       "0          1                      Toy Story (1995)   \n",
       "1          2                        Jumanji (1995)   \n",
       "2          3               Grumpier Old Men (1995)   \n",
       "3          4              Waiting to Exhale (1995)   \n",
       "4          5    Father of the Bride Part II (1995)   \n",
       "..       ...                                   ...   \n",
       "95        96         In the Bleak Midwinter (1995)   \n",
       "96        97                           Hate (Haine   \n",
       "97        98                       Shopping (1994)   \n",
       "98        99  Heidi Fleiss: Hollywood Madam (1995)   \n",
       "99       100                      City Hall (1996)   \n",
       "\n",
       "                          genres  \n",
       "0    Animation|Children's|Comedy  \n",
       "1   Adventure|Children's|Fantasy  \n",
       "2                 Comedy|Romance  \n",
       "3                   Comedy|Drama  \n",
       "4                         Comedy  \n",
       "..                           ...  \n",
       "95                        Comedy  \n",
       "96                           NaN  \n",
       "97               Action|Thriller  \n",
       "98                   Documentary  \n",
       "99                Drama|Thriller  \n",
       "\n",
       "[100 rows x 3 columns]"
      ]
     },
     "execution_count": 33,
     "metadata": {},
     "output_type": "execute_result"
    }
   ],
   "source": [
    "df0"
   ]
  },
  {
   "cell_type": "code",
   "execution_count": 35,
   "id": "fa369631",
   "metadata": {},
   "outputs": [
    {
     "data": {
      "text/html": [
       "<div>\n",
       "<style scoped>\n",
       "    .dataframe tbody tr th:only-of-type {\n",
       "        vertical-align: middle;\n",
       "    }\n",
       "\n",
       "    .dataframe tbody tr th {\n",
       "        vertical-align: top;\n",
       "    }\n",
       "\n",
       "    .dataframe thead th {\n",
       "        text-align: right;\n",
       "    }\n",
       "</style>\n",
       "<table border=\"1\" class=\"dataframe\">\n",
       "  <thead>\n",
       "    <tr style=\"text-align: right;\">\n",
       "      <th></th>\n",
       "      <th>movie_id</th>\n",
       "      <th>title</th>\n",
       "      <th>genres</th>\n",
       "    </tr>\n",
       "  </thead>\n",
       "  <tbody>\n",
       "    <tr>\n",
       "      <th>0</th>\n",
       "      <td>1</td>\n",
       "      <td>Toy Story (1995)</td>\n",
       "      <td>Animation|Children's|Comedy</td>\n",
       "    </tr>\n",
       "    <tr>\n",
       "      <th>1</th>\n",
       "      <td>2</td>\n",
       "      <td>Jumanji (1995)</td>\n",
       "      <td>Adventure|Children's|Fantasy</td>\n",
       "    </tr>\n",
       "    <tr>\n",
       "      <th>2</th>\n",
       "      <td>3</td>\n",
       "      <td>Grumpier Old Men (1995)</td>\n",
       "      <td>Comedy|Romance</td>\n",
       "    </tr>\n",
       "    <tr>\n",
       "      <th>3</th>\n",
       "      <td>4</td>\n",
       "      <td>Waiting to Exhale (1995)</td>\n",
       "      <td>Comedy|Drama</td>\n",
       "    </tr>\n",
       "    <tr>\n",
       "      <th>4</th>\n",
       "      <td>5</td>\n",
       "      <td>Father of the Bride Part II (1995)</td>\n",
       "      <td>Comedy</td>\n",
       "    </tr>\n",
       "    <tr>\n",
       "      <th>...</th>\n",
       "      <td>...</td>\n",
       "      <td>...</td>\n",
       "      <td>...</td>\n",
       "    </tr>\n",
       "    <tr>\n",
       "      <th>94</th>\n",
       "      <td>95</td>\n",
       "      <td>Broken Arrow (1996)</td>\n",
       "      <td>Action|Thriller</td>\n",
       "    </tr>\n",
       "    <tr>\n",
       "      <th>95</th>\n",
       "      <td>96</td>\n",
       "      <td>In the Bleak Midwinter (1995)</td>\n",
       "      <td>Comedy</td>\n",
       "    </tr>\n",
       "    <tr>\n",
       "      <th>97</th>\n",
       "      <td>98</td>\n",
       "      <td>Shopping (1994)</td>\n",
       "      <td>Action|Thriller</td>\n",
       "    </tr>\n",
       "    <tr>\n",
       "      <th>98</th>\n",
       "      <td>99</td>\n",
       "      <td>Heidi Fleiss: Hollywood Madam (1995)</td>\n",
       "      <td>Documentary</td>\n",
       "    </tr>\n",
       "    <tr>\n",
       "      <th>99</th>\n",
       "      <td>100</td>\n",
       "      <td>City Hall (1996)</td>\n",
       "      <td>Drama|Thriller</td>\n",
       "    </tr>\n",
       "  </tbody>\n",
       "</table>\n",
       "<p>85 rows × 3 columns</p>\n",
       "</div>"
      ],
      "text/plain": [
       "    movie_id                                 title  \\\n",
       "0          1                      Toy Story (1995)   \n",
       "1          2                        Jumanji (1995)   \n",
       "2          3               Grumpier Old Men (1995)   \n",
       "3          4              Waiting to Exhale (1995)   \n",
       "4          5    Father of the Bride Part II (1995)   \n",
       "..       ...                                   ...   \n",
       "94        95                   Broken Arrow (1996)   \n",
       "95        96         In the Bleak Midwinter (1995)   \n",
       "97        98                       Shopping (1994)   \n",
       "98        99  Heidi Fleiss: Hollywood Madam (1995)   \n",
       "99       100                      City Hall (1996)   \n",
       "\n",
       "                          genres  \n",
       "0    Animation|Children's|Comedy  \n",
       "1   Adventure|Children's|Fantasy  \n",
       "2                 Comedy|Romance  \n",
       "3                   Comedy|Drama  \n",
       "4                         Comedy  \n",
       "..                           ...  \n",
       "94               Action|Thriller  \n",
       "95                        Comedy  \n",
       "97               Action|Thriller  \n",
       "98                   Documentary  \n",
       "99                Drama|Thriller  \n",
       "\n",
       "[85 rows x 3 columns]"
      ]
     },
     "execution_count": 35,
     "metadata": {},
     "output_type": "execute_result"
    }
   ],
   "source": [
    "df0.dropna()"
   ]
  },
  {
   "cell_type": "code",
   "execution_count": 39,
   "id": "3e15f2ee",
   "metadata": {},
   "outputs": [],
   "source": [
    "# Replace missing values in the 'genres' column with an empty string\n",
    "df0['genres'].fillna('', inplace=True)"
   ]
  },
  {
   "cell_type": "code",
   "execution_count": 41,
   "id": "53be806f",
   "metadata": {},
   "outputs": [],
   "source": [
    "genres_list = set()\n",
    "for genres_str in df0['genres']:\n",
    "    genres_list.update(genres_str.split(','))"
   ]
  },
  {
   "cell_type": "code",
   "execution_count": 42,
   "id": "ded5d0f3",
   "metadata": {},
   "outputs": [
    {
     "name": "stdout",
     "output_type": "stream",
     "text": [
      "['', 'Drama|Sci-Fi', 'Action|Crime|Thriller', 'Drama|War', 'Comedy|Drama', \"Children's|Comedy\", \"Adventure|Children's|Fantasy\", 'Action|Adventure|Thriller', \"Children's|Comedy|Drama\", 'Action|Adventure', 'Crime|Drama|Thriller', 'Action|Comedy|Crime|Horror|Thriller', 'Crime|Drama|Romance', 'Action|Crime|Drama', 'Comedy', 'Documentary', 'Action|Thriller', 'Drama|Thriller', \"Adventure|Children's\", 'Adventure|Romance', 'Comedy|Horror', 'Drama', \"Animation|Children's\", 'Action|Adventure|Romance', 'Crime|Thriller', 'Comedy|Romance', 'Thriller', \"Animation|Children's|Musical|Romance\", 'Drama|Romance', 'Action|Comedy|Drama', 'Action', \"Animation|Children's|Comedy\", 'Sci-Fi|Thriller', 'Action|Drama|Thriller', 'Adventure|Drama', 'Romance']\n"
     ]
    }
   ],
   "source": [
    "# Print the list of unique genres\n",
    "print(list(genres_list))"
   ]
  },
  {
   "cell_type": "code",
   "execution_count": 45,
   "id": "db824fe3",
   "metadata": {},
   "outputs": [],
   "source": [
    "# Get the set of unique genres across all movies\n",
    "unique_genres = set(genre for genres in genres_list for genre in genres)\n"
   ]
  },
  {
   "cell_type": "code",
   "execution_count": 47,
   "id": "709eb546",
   "metadata": {},
   "outputs": [],
   "source": [
    "# Create a DataFrame with a binary column for each unique genre\n",
    "genre_columns = pd.DataFrame(0, index=df0.index, columns=unique_genres)"
   ]
  },
  {
   "cell_type": "code",
   "execution_count": 48,
   "id": "7fb56675",
   "metadata": {},
   "outputs": [],
   "source": [
    "# Set the value of each genre column to 1 for movies that belong to that genre\n",
    "for i, genres in enumerate(genres_list):\n",
    "    genre_columns.loc[i, genres] = 1\n"
   ]
  },
  {
   "cell_type": "code",
   "execution_count": 50,
   "id": "139c6e13",
   "metadata": {},
   "outputs": [],
   "source": [
    "# Concatenate the original DataFrame and the genre columns\n",
    "df0 = pd.concat([df0, genre_columns], axis=1)\n",
    "\n",
    "# Rename the columns to make them easier to work with\n",
    "df0.rename(columns=lambda x: x.strip().lower().replace(' ', '_'), inplace=True)\n"
   ]
  },
  {
   "cell_type": "code",
   "execution_count": 52,
   "id": "69cbc0d0",
   "metadata": {},
   "outputs": [
    {
     "name": "stdout",
     "output_type": "stream",
     "text": [
      "   movie_id                               title                        genres  \\\n",
      "0         1                    Toy Story (1995)   Animation|Children's|Comedy   \n",
      "1         2                      Jumanji (1995)  Adventure|Children's|Fantasy   \n",
      "2         3             Grumpier Old Men (1995)                Comedy|Romance   \n",
      "3         4            Waiting to Exhale (1995)                  Comedy|Drama   \n",
      "4         5  Father of the Bride Part II (1995)                        Comedy   \n",
      "\n",
      "   t  l  e  w  s  i  -  ...  thriller  animation|children's|musical|romance  \\\n",
      "0  0  0  0  0  0  0  0  ...       NaN                                   NaN   \n",
      "1  0  0  0  0  0  0  0  ...       NaN                                   NaN   \n",
      "2  0  0  0  0  0  0  0  ...       NaN                                   NaN   \n",
      "3  0  0  0  0  0  0  0  ...       NaN                                   NaN   \n",
      "4  0  0  0  0  0  0  0  ...       NaN                                   NaN   \n",
      "\n",
      "   drama|romance  action|comedy|drama  action  animation|children's|comedy  \\\n",
      "0            NaN                  NaN     NaN                          NaN   \n",
      "1            NaN                  NaN     NaN                          NaN   \n",
      "2            NaN                  NaN     NaN                          NaN   \n",
      "3            NaN                  NaN     NaN                          NaN   \n",
      "4            NaN                  NaN     NaN                          NaN   \n",
      "\n",
      "   sci-fi|thriller  action|drama|thriller  adventure|drama  romance  \n",
      "0              NaN                    NaN              NaN      NaN  \n",
      "1              NaN                    NaN              NaN      NaN  \n",
      "2              NaN                    NaN              NaN      NaN  \n",
      "3              NaN                    NaN              NaN      NaN  \n",
      "4              NaN                    NaN              NaN      NaN  \n",
      "\n",
      "[5 rows x 68 columns]\n"
     ]
    }
   ],
   "source": [
    "# Print the resulting DataFrame\n",
    "print(df0.head())"
   ]
  },
  {
   "cell_type": "code",
   "execution_count": 53,
   "id": "59369030",
   "metadata": {},
   "outputs": [
    {
     "ename": "AttributeError",
     "evalue": "'set' object has no attribute 'str'",
     "output_type": "error",
     "traceback": [
      "\u001b[1;31m---------------------------------------------------------------------------\u001b[0m",
      "\u001b[1;31mAttributeError\u001b[0m                            Traceback (most recent call last)",
      "\u001b[1;32m~\\AppData\\Local\\Temp\\ipykernel_19132\\1439332586.py\u001b[0m in \u001b[0;36m<module>\u001b[1;34m\u001b[0m\n\u001b[0;32m      1\u001b[0m \u001b[1;31m# Create a one-hot encoded representation of the genres for each movie\u001b[0m\u001b[1;33m\u001b[0m\u001b[1;33m\u001b[0m\u001b[0m\n\u001b[1;32m----> 2\u001b[1;33m \u001b[0mgenres_one_hot\u001b[0m \u001b[1;33m=\u001b[0m \u001b[0mgenres_list\u001b[0m\u001b[1;33m.\u001b[0m\u001b[0mstr\u001b[0m\u001b[1;33m.\u001b[0m\u001b[0mjoin\u001b[0m\u001b[1;33m(\u001b[0m\u001b[1;34m'|'\u001b[0m\u001b[1;33m)\u001b[0m\u001b[1;33m.\u001b[0m\u001b[0mstr\u001b[0m\u001b[1;33m.\u001b[0m\u001b[0mget_dummies\u001b[0m\u001b[1;33m(\u001b[0m\u001b[1;33m)\u001b[0m\u001b[1;33m\u001b[0m\u001b[1;33m\u001b[0m\u001b[0m\n\u001b[0m",
      "\u001b[1;31mAttributeError\u001b[0m: 'set' object has no attribute 'str'"
     ]
    }
   ],
   "source": [
    "# Create a one-hot encoded representation of the genres for each movie\n",
    "genres_one_hot = genres_list.str.join('|').str.get_dummies()"
   ]
  },
  {
   "cell_type": "code",
   "execution_count": 55,
   "id": "91282f5b",
   "metadata": {},
   "outputs": [],
   "source": [
    "# Split the genres string into a list of individual genres\n",
    "genres_list = df0['genres'].str.split(',')"
   ]
  },
  {
   "cell_type": "code",
   "execution_count": 57,
   "id": "587cf753",
   "metadata": {},
   "outputs": [],
   "source": [
    "# Get the set of unique genres across all movies\n",
    "unique_genres = sorted(set(genre for genres in genres_list for genre in genres))\n",
    "\n",
    "# Create a DataFrame with a binary column for each unique genre\n",
    "genre_matrix = pd.DataFrame(0, index=df0.index, columns=unique_genres)"
   ]
  },
  {
   "cell_type": "code",
   "execution_count": 58,
   "id": "a0f960d6",
   "metadata": {},
   "outputs": [
    {
     "name": "stdout",
     "output_type": "stream",
     "text": [
      "      Action  Action|Adventure  Action|Adventure|Romance  \\\n",
      "0  0       0                 0                         0   \n",
      "1  0       0                 0                         0   \n",
      "2  0       0                 0                         0   \n",
      "3  0       0                 0                         0   \n",
      "4  0       0                 0                         0   \n",
      "\n",
      "   Action|Adventure|Thriller  Action|Comedy|Crime|Horror|Thriller  \\\n",
      "0                          0                                    0   \n",
      "1                          0                                    0   \n",
      "2                          0                                    0   \n",
      "3                          0                                    0   \n",
      "4                          0                                    0   \n",
      "\n",
      "   Action|Comedy|Drama  Action|Crime|Drama  Action|Crime|Thriller  \\\n",
      "0                    0                   0                      0   \n",
      "1                    0                   0                      0   \n",
      "2                    0                   0                      0   \n",
      "3                    0                   0                      0   \n",
      "4                    0                   0                      0   \n",
      "\n",
      "   Action|Drama|Thriller  ...  Crime|Thriller  Documentary  Drama  \\\n",
      "0                      0  ...               0            0      0   \n",
      "1                      0  ...               0            0      0   \n",
      "2                      0  ...               0            0      0   \n",
      "3                      0  ...               0            0      0   \n",
      "4                      0  ...               0            0      0   \n",
      "\n",
      "   Drama|Romance  Drama|Sci-Fi  Drama|Thriller  Drama|War  Romance  \\\n",
      "0              0             0               0          0        0   \n",
      "1              0             0               0          0        0   \n",
      "2              0             0               0          0        0   \n",
      "3              0             0               0          0        0   \n",
      "4              0             0               0          0        0   \n",
      "\n",
      "   Sci-Fi|Thriller  Thriller  \n",
      "0                0         0  \n",
      "1                0         0  \n",
      "2                0         0  \n",
      "3                0         0  \n",
      "4                0         0  \n",
      "\n",
      "[5 rows x 36 columns]\n"
     ]
    }
   ],
   "source": [
    "# Set the value of each genre column to 1 for movies that belong to that genre\n",
    "for i, genres in enumerate(genres_list):\n",
    "    genre_matrix.loc[i, genres] = 1\n",
    "\n",
    "# Print the resulting matrix\n",
    "print(genre_matrix.head())"
   ]
  },
  {
   "cell_type": "code",
   "execution_count": 65,
   "id": "803efedf",
   "metadata": {},
   "outputs": [],
   "source": [
    "# Create a set of all unique genres\n",
    "genres = set()\n",
    "for genre_list in df0[\"genres\"].str.split(\"|\"):\n",
    "    genres.update(genre_list)\n"
   ]
  },
  {
   "cell_type": "code",
   "execution_count": 66,
   "id": "c751a5ea",
   "metadata": {},
   "outputs": [],
   "source": [
    "# Create a dictionary to map each genre to an index\n",
    "genre_to_idx = {genre: i for i, genre in enumerate(genres)}\n",
    "\n",
    "# Create a list to hold the vectorized genre information for each movie\n",
    "genre_vectors = []"
   ]
  },
  {
   "cell_type": "code",
   "execution_count": 68,
   "id": "3549099b",
   "metadata": {},
   "outputs": [],
   "source": [
    "# Loop over each movie\n",
    "for genres_str in df0[\"genres\"]:\n",
    "    # Split the genre string into a list of individual genres\n",
    "    genre_list = genres_str.split(\"|\")\n",
    "    \n",
    "    # Create a binary vector to represent the genres of the current movie\n",
    "    genre_vector = [0] * len(genres)\n",
    "    for genre in genre_list:\n",
    "        genre_idx = genre_to_idx[genre]\n",
    "        genre_vector[genre_idx] = 1\n",
    "    \n",
    "    # Append the genre vector to the list of genre vectors\n",
    "    genre_vectors.append(genre_vector)"
   ]
  },
  {
   "cell_type": "code",
   "execution_count": 71,
   "id": "04e2640d",
   "metadata": {},
   "outputs": [],
   "source": [
    "# Convert the list of genre vectors into a numpy array\n",
    "Ij = np.array(genre_vectors)"
   ]
  },
  {
   "cell_type": "code",
   "execution_count": 73,
   "id": "b6a5a938",
   "metadata": {},
   "outputs": [
    {
     "name": "stdout",
     "output_type": "stream",
     "text": [
      "[[0 1 0 0 0 0 0 0 0 0 1 1 0 0 0 0]\n",
      " [0 0 0 0 0 1 0 0 0 0 0 1 1 0 0 0]\n",
      " [0 0 0 0 0 0 0 0 0 0 1 0 0 0 0 1]\n",
      " [0 0 0 0 1 0 0 0 0 0 1 0 0 0 0 0]]\n"
     ]
    }
   ],
   "source": [
    "print(Ij[:4])"
   ]
  },
  {
   "cell_type": "markdown",
   "id": "e03e553a",
   "metadata": {},
   "source": [
    "Vectorize the relationship between users and genres and put them into Uj (if user rate for a movie, \n",
    "he/she has the related history with the movies’genres)."
   ]
  },
  {
   "cell_type": "code",
   "execution_count": 74,
   "id": "795d8376",
   "metadata": {},
   "outputs": [],
   "source": [
    "# Create a set of all unique genres\n",
    "genres = set()\n",
    "for genre_list in df0[\"genres\"].str.split(\"|\"):\n",
    "    genres.update(genre_list)\n"
   ]
  },
  {
   "cell_type": "code",
   "execution_count": 75,
   "id": "cd99c6b4",
   "metadata": {},
   "outputs": [],
   "source": [
    "# Create a dictionary to map each genre to an index\n",
    "genre_to_idx = {genre: i for i, genre in enumerate(genres)}\n"
   ]
  },
  {
   "cell_type": "code",
   "execution_count": 80,
   "id": "bde8d00f",
   "metadata": {},
   "outputs": [],
   "source": [
    "# Create a dictionary to map each movie ID to a list of genre indices\n",
    "movie_genres = {}\n",
    "for movieId, genres_str in zip(df0[\"movie_id\"], df0[\"genres\"]):\n",
    "    genre_list = genres_str.split(\"|\")\n",
    "    genre_indices = [genre_to_idx[genre] for genre in genre_list]\n",
    "    movie_genres[movieId] = genre_indices"
   ]
  },
  {
   "cell_type": "code",
   "execution_count": 84,
   "id": "165099b9",
   "metadata": {},
   "outputs": [],
   "source": [
    "# Create a dictionary to map each user ID to a list of movie IDs and ratings\n",
    "user_history = {}\n",
    "for userId, movieId, rating in zip(df1[\"user_id\"], df1[\"movie_id\"], df1[\"rating\"]):\n",
    "    if userId not in user_history:\n",
    "        user_history[userId] = []\n",
    "    user_history[userId].append((movieId, rating))\n"
   ]
  },
  {
   "cell_type": "code",
   "execution_count": 85,
   "id": "2942130b",
   "metadata": {},
   "outputs": [],
   "source": [
    "# Create a list to hold the vectorized genre information for each user\n",
    "user_genre_vectors = []"
   ]
  },
  {
   "cell_type": "code",
   "execution_count": 88,
   "id": "6ac0c7e3",
   "metadata": {},
   "outputs": [],
   "source": [
    "# Loop over each user\n",
    "for userId in df2[\"user_id\"]:\n",
    "    # Get the list of movie IDs and ratings for the current user\n",
    "    user_movies = user_history.get(userId, [])\n",
    "    \n",
    "    # Create a binary vector to represent the genres of the movies that the user has rated\n",
    "    genre_vector = [0] * len(genres)\n",
    "    for movieId, rating in user_movies:\n",
    "        if movieId in movie_genres:\n",
    "            for genre_idx in movie_genres[movieId]:\n",
    "                genre_vector[genre_idx] = 1\n",
    "    # Append the genre vector to the list of user genre vectors\n",
    "    user_genre_vectors.append(genre_vector)"
   ]
  },
  {
   "cell_type": "code",
   "execution_count": 89,
   "id": "5734da5a",
   "metadata": {},
   "outputs": [],
   "source": [
    "\n",
    "# Convert the list of user genre vectors into a numpy array\n",
    "Uj = np.array(user_genre_vectors)"
   ]
  },
  {
   "cell_type": "code",
   "execution_count": 90,
   "id": "a27c4aed",
   "metadata": {},
   "outputs": [
    {
     "name": "stdout",
     "output_type": "stream",
     "text": [
      "[[1 1 1 1 1 1 1 1 0 1 1 1 1 1 1 1]\n",
      " [1 1 0 1 1 1 1 1 1 1 1 1 1 1 1 1]\n",
      " [1 1 1 1 1 1 1 1 1 1 1 1 1 1 1 1]\n",
      " [1 1 1 1 1 1 1 1 0 1 1 1 1 1 1 1]]\n"
     ]
    }
   ],
   "source": [
    "print(Uj[:4])"
   ]
  },
  {
   "cell_type": "code",
   "execution_count": 91,
   "id": "f67152e3",
   "metadata": {},
   "outputs": [],
   "source": [
    "import numpy as np\n",
    "from sklearn.metrics.pairwise import cosine_similarity"
   ]
  },
  {
   "cell_type": "code",
   "execution_count": 92,
   "id": "b4ae66f4",
   "metadata": {},
   "outputs": [],
   "source": [
    "# compute cosine similarity between Ij and Uj\n",
    "cos_sim = cosine_similarity(Ij.T, Uj.T)"
   ]
  },
  {
   "cell_type": "code",
   "execution_count": 95,
   "id": "3a4b59c3",
   "metadata": {},
   "outputs": [
    {
     "data": {
      "text/plain": [
       "array([[0.38729833, 0.38924947, 0.32366944, 0.38729833, 0.38729833,\n",
       "        0.37283655, 0.38729833, 0.38729833, 0.39285863, 0.39324188,\n",
       "        0.38729833, 0.38729833, 0.38729833, 0.37086906, 0.38729833,\n",
       "        0.38729833],\n",
       "       [0.17320508, 0.17407766, 0.13159034, 0.17320508, 0.17320508,\n",
       "        0.1786474 , 0.17320508, 0.17320508, 0.        , 0.17586311,\n",
       "        0.17320508, 0.17320508, 0.17320508, 0.17770466, 0.17320508,\n",
       "        0.17320508],\n",
       "       [0.1       , 0.10050378, 0.11396058, 0.1       , 0.1       ,\n",
       "        0.10314212, 0.1       , 0.1       , 0.        , 0.10153462,\n",
       "        0.1       , 0.1       , 0.1       , 0.10259784, 0.1       ,\n",
       "        0.1       ],\n",
       "       [0.37416574, 0.37605072, 0.21320072, 0.37416574, 0.37416574,\n",
       "        0.38592249, 0.37416574, 0.37416574, 0.31280562, 0.35277148,\n",
       "        0.37416574, 0.37416574, 0.37416574, 0.38388595, 0.37416574,\n",
       "        0.37416574],\n",
       "       [0.64031242, 0.62784215, 0.56952486, 0.64031242, 0.64031242,\n",
       "        0.59599946, 0.64031242, 0.64031242, 0.54836269, 0.63428172,\n",
       "        0.64031242, 0.64031242, 0.64031242, 0.62490051, 0.64031242,\n",
       "        0.64031242],\n",
       "       [0.14142136, 0.14213381, 0.0805823 , 0.14142136, 0.14142136,\n",
       "        0.14586499, 0.14142136, 0.14142136, 0.08276059, 0.14359163,\n",
       "        0.14142136, 0.14142136, 0.14142136, 0.07254763, 0.14142136,\n",
       "        0.14142136],\n",
       "       [0.24494897, 0.24618298, 0.18609684, 0.24494897, 0.24494897,\n",
       "        0.21053798, 0.24494897, 0.24494897, 0.14334554, 0.248708  ,\n",
       "        0.24494897, 0.24494897, 0.24494897, 0.25131234, 0.24494897,\n",
       "        0.24494897],\n",
       "       [0.2       , 0.20100756, 0.17094086, 0.2       , 0.2       ,\n",
       "        0.10314212, 0.2       , 0.2       , 0.17556172, 0.20306923,\n",
       "        0.2       , 0.2       , 0.2       , 0.20519567, 0.2       ,\n",
       "        0.2       ],\n",
       "       [0.1       , 0.10050378, 0.11396058, 0.1       , 0.1       ,\n",
       "        0.10314212, 0.1       , 0.1       , 0.11704115, 0.        ,\n",
       "        0.1       , 0.1       , 0.1       , 0.10259784, 0.1       ,\n",
       "        0.1       ],\n",
       "       [0.17320508, 0.17407766, 0.19738551, 0.17320508, 0.17320508,\n",
       "        0.1786474 , 0.17320508, 0.17320508, 0.13514748, 0.17586311,\n",
       "        0.17320508, 0.17320508, 0.17320508, 0.17770466, 0.17320508,\n",
       "        0.17320508],\n",
       "       [0.50990195, 0.51247074, 0.44699016, 0.50990195, 0.50990195,\n",
       "        0.52592371, 0.50990195, 0.50990195, 0.39021218, 0.49781441,\n",
       "        0.50990195, 0.50990195, 0.50990195, 0.48290618, 0.50990195,\n",
       "        0.50990195],\n",
       "       [0.28284271, 0.28426762, 0.24174689, 0.28284271, 0.28284271,\n",
       "        0.29172998, 0.28284271, 0.28284271, 0.12414088, 0.28718326,\n",
       "        0.28284271, 0.28284271, 0.28284271, 0.25391669, 0.28284271,\n",
       "        0.28284271],\n",
       "       [0.28284271, 0.28426762, 0.20145574, 0.28284271, 0.28284271,\n",
       "        0.29172998, 0.28284271, 0.28284271, 0.24828177, 0.25128536,\n",
       "        0.28284271, 0.28284271, 0.28284271, 0.21764288, 0.28284271,\n",
       "        0.28284271],\n",
       "       [0.14142136, 0.14213381, 0.16116459, 0.14142136, 0.14142136,\n",
       "        0.14586499, 0.14142136, 0.14142136, 0.08276059, 0.14359163,\n",
       "        0.14142136, 0.14142136, 0.14142136, 0.14509525, 0.14142136,\n",
       "        0.14142136],\n",
       "       [0.41231056, 0.39001196, 0.331674  , 0.41231056, 0.41231056,\n",
       "        0.37523459, 0.41231056, 0.41231056, 0.36902642, 0.41863795,\n",
       "        0.41231056, 0.41231056, 0.41231056, 0.42302171, 0.41231056,\n",
       "        0.41231056],\n",
       "       [0.42426407, 0.42640143, 0.42977225, 0.42426407, 0.42426407,\n",
       "        0.43759497, 0.42426407, 0.42426407, 0.35862922, 0.40684296,\n",
       "        0.42426407, 0.42426407, 0.42426407, 0.43528575, 0.42426407,\n",
       "        0.42426407]])"
      ]
     },
     "execution_count": 95,
     "metadata": {},
     "output_type": "execute_result"
    }
   ],
   "source": [
    "cos_sim"
   ]
  },
  {
   "cell_type": "markdown",
   "id": "42c61ac0",
   "metadata": {},
   "source": [
    "# b. Collaborative Filtering Recommendation Model by Users"
   ]
  },
  {
   "cell_type": "code",
   "execution_count": 111,
   "id": "23dca4f6",
   "metadata": {},
   "outputs": [],
   "source": [
    "# Split the data into training and testing sets\n",
    "train_data, test_data = train_test_split(df1, test_size=0.5, random_state=42)\n",
    "\n",
    "# Create the user-item matrix for the training and testing sets\n",
    "train_data_matrix = train_data.pivot_table(index='user_id', columns='movie_id', values='rating').fillna(0)\n",
    "test_data_matrix = test_data.pivot_table(index='user_id', columns='movie_id', values='rating').fillna(0)"
   ]
  },
  {
   "cell_type": "code",
   "execution_count": 112,
   "id": "4f0c4545",
   "metadata": {},
   "outputs": [
    {
     "name": "stdout",
     "output_type": "stream",
     "text": [
      "User correlation matrix:\n",
      " [[ 0.         -0.14337447 -0.09069978 ... -0.05420863  0.06369124\n",
      "   0.05543262]\n",
      " [-0.14337447  0.         -0.13302999 ... -0.05059483  0.08023175\n",
      "   0.05748911]\n",
      " [-0.09069978 -0.13302999  0.         ... -0.1669279  -0.02668941\n",
      "  -0.03646205]\n",
      " ...\n",
      " [-0.05420863 -0.05059483 -0.1669279  ...  0.         -0.2516111\n",
      "  -0.12687328]\n",
      " [ 0.06369124  0.08023175 -0.02668941 ... -0.2516111   0.\n",
      "   0.20333568]\n",
      " [ 0.05543262  0.05748911 -0.03646205 ... -0.12687328  0.20333568\n",
      "   0.        ]]\n"
     ]
    }
   ],
   "source": [
    "import numpy as np\n",
    "\n",
    "def pearson_similarity(df0):\n",
    "    # Calculate the Pearson correlation similarity between all pairs of users.\n",
    "    corr_matrix = np.corrcoef(df0)\n",
    "    # Set the diagonal to 0 to ignore similarity between user and itself.\n",
    "    np.fill_diagonal(corr_matrix, 0)\n",
    "    return corr_matrix\n",
    "\n",
    "# Assuming the train_data_matrix contains the user-movie ratings matrix with user ids as index and movie ids as columns.\n",
    "user_correlation = pearson_similarity(train_data_matrix.values)\n",
    "print(\"User correlation matrix:\\n\", user_correlation)"
   ]
  },
  {
   "cell_type": "code",
   "execution_count": 113,
   "id": "a4bff3e8",
   "metadata": {},
   "outputs": [],
   "source": [
    "from sklearn.metrics.pairwise import pairwise_distances\n",
    "\n",
    "def predict_user_cf(user_correlation, train_data_matrix, test_data_matrix, k=10, metric='cosine'):\n",
    "    # Calculate the pairwise distance between users\n",
    "    user_similarity = 1 - pairwise_distances(train_data_matrix, metric=metric)\n",
    "    \n",
    "    # Replace NaN values with 0\n",
    "    user_similarity[np.isnan(user_similarity)] = 0\n",
    "    \n",
    "    # Initialize an empty array to store the predicted ratings\n",
    "    pred = np.zeros(test_data_matrix.shape)\n",
    "    \n",
    "    # Loop over each user in the test data\n",
    "    for i in range(test_data_matrix.shape[0]):\n",
    "        # Find the k most similar users to the current user\n",
    "        similar_users_idx = np.argsort(user_similarity[i,:])[:-k-1:-1]\n",
    "        \n",
    "        # Calculate the weighted average of the ratings given by the k most similar users\n",
    "        for j in range(test_data_matrix.shape[1]):\n",
    "            numerator = np.sum(user_similarity[i,similar_users_idx] * train_data_matrix[similar_users_idx,j])\n",
    "            denominator = np.sum(user_similarity[i,similar_users_idx])\n",
    "            pred[i,j] = numerator / denominator if denominator != 0 else 0\n",
    "    \n",
    "    return pred"
   ]
  },
  {
   "cell_type": "code",
   "execution_count": null,
   "id": "b0597110",
   "metadata": {},
   "outputs": [],
   "source": []
  }
 ],
 "metadata": {
  "kernelspec": {
   "display_name": "Python 3 (ipykernel)",
   "language": "python",
   "name": "python3"
  },
  "language_info": {
   "codemirror_mode": {
    "name": "ipython",
    "version": 3
   },
   "file_extension": ".py",
   "mimetype": "text/x-python",
   "name": "python",
   "nbconvert_exporter": "python",
   "pygments_lexer": "ipython3",
   "version": "3.9.13"
  }
 },
 "nbformat": 4,
 "nbformat_minor": 5
}
